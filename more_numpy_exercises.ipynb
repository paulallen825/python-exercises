{
 "cells": [
  {
   "cell_type": "code",
   "execution_count": 2,
   "id": "849a880e",
   "metadata": {},
   "outputs": [],
   "source": [
    "import numpy as np\n",
    "#Life w/o numpy to life with numpy\n",
    "\n",
    "#Setup 1\n",
    "a = [1, 2, 3, 4, 5, 6, 7, 8, 9, 10]\n",
    "\n",
    "#Use python's built in functionality/operators to determine the following:"
   ]
  },
  {
   "cell_type": "code",
   "execution_count": null,
   "id": "3f894103",
   "metadata": {},
   "outputs": [],
   "source": [
    "#Exercise 1 - Make a variable called sum_of_a to hold the sum of all the numbers in above list\n",
    "sum_of_a = sum(a)\n",
    "print(sum_of_a)"
   ]
  },
  {
   "cell_type": "code",
   "execution_count": null,
   "id": "3f13ecdd",
   "metadata": {},
   "outputs": [],
   "source": [
    "#Exercise 2 - Make a variable named min_of_a to hold the minimum of all the numbers in the above list\n",
    "min_of_a = min(a)\n",
    "print(min_of_a)"
   ]
  },
  {
   "cell_type": "code",
   "execution_count": null,
   "id": "8a276b98",
   "metadata": {},
   "outputs": [],
   "source": [
    "#Exercise 3 - Make a variable named max_of_a to hold the max number of all the numbers in the above list\n",
    "max_of_a = max(a)\n",
    "print(max_of_a)"
   ]
  },
  {
   "cell_type": "code",
   "execution_count": null,
   "id": "0ab931b2",
   "metadata": {},
   "outputs": [],
   "source": [
    "#Exercise 4 - Make a variable named mean_of_a to hold the average of all the numbers in the above list\n",
    "mean_of_a = ((sum_of_a)/len(a))\n",
    "print(mean_of_a)"
   ]
  },
  {
   "cell_type": "code",
   "execution_count": null,
   "id": "a6fb3e47",
   "metadata": {},
   "outputs": [],
   "source": [
    "#Exercise 5 - Make a variable named product_of_a to hold the product of multiplying all the numbers in the above list together\n",
    "\n",
    "product_of_a = 1\n",
    "for x in a:\n",
    "    product_of_a *= x  \n",
    "print(product_of_a)\n",
    "    "
   ]
  },
  {
   "cell_type": "code",
   "execution_count": null,
   "id": "0348e283",
   "metadata": {},
   "outputs": [],
   "source": [
    "#Exercise 6 - Make a variable named squares_of_a. It should hold each number in a squared like [1, 4, 9, 16, 25...]\n",
    "square_of_a =[]\n",
    "for x in a:\n",
    "    square = square_of_a.append(x**2)\n",
    "print(a)\n",
    "print(square_of_a)"
   ]
  },
  {
   "cell_type": "code",
   "execution_count": null,
   "id": "53ac9d97",
   "metadata": {},
   "outputs": [],
   "source": [
    "#Exercise 7 - Make a variable named odds_in_a. It should hold only the odd numbers\n",
    "odds_in_a =[]\n",
    "for num in a:\n",
    "    if num % 2 != 0:\n",
    "        odds_in_a.append(num+1)\n",
    "print(a)\n",
    "print(odds_in_a)"
   ]
  },
  {
   "cell_type": "code",
   "execution_count": null,
   "id": "f8e49796",
   "metadata": {},
   "outputs": [],
   "source": [
    "#Exercise 8 - Make a variable named evens_in_a. It should hold only the evens.\n",
    "evens_in_a =[]\n",
    "for num in a:  \n",
    "    if num % 2 == 0:\n",
    "        evens_in_a.append(num+1)\n",
    "print(a)\n",
    "print(evens_in_a)"
   ]
  },
  {
   "cell_type": "code",
   "execution_count": 3,
   "id": "bb1e2b22",
   "metadata": {},
   "outputs": [],
   "source": [
    "## What about life in two dimensions? A list of lists is matrix, a table, a spreadsheet, a chessboard...\n",
    "## Setup 2: Consider what it would take to find the sum, min, max, average, \n",
    "#sum, product, and list of squares for this list of two lists.\n",
    "b = np.array([\n",
    "    [3, 4, 5],\n",
    "    [6, 7, 8]\n",
    "])"
   ]
  },
  {
   "cell_type": "code",
   "execution_count": 5,
   "id": "8f06b43f",
   "metadata": {},
   "outputs": [
    {
     "data": {
      "text/plain": [
       "33"
      ]
     },
     "execution_count": 5,
     "metadata": {},
     "output_type": "execute_result"
    }
   ],
   "source": [
    "# Exercise 1 - refactor the following to use numpy. Use sum_of_b as the variable. **Hint, you'll first need to make sure that the \"b\" variable is a numpy array**\n",
    "\n",
    "sum_of_b=b.sum()\n",
    "print(sum_of_b)\n",
    "\n"
   ]
  },
  {
   "cell_type": "code",
   "execution_count": 9,
   "id": "307d9b71",
   "metadata": {},
   "outputs": [
    {
     "name": "stdout",
     "output_type": "stream",
     "text": [
      "3\n"
     ]
    }
   ],
   "source": [
    "# Exercise 2 - refactor the following to use numpy. \n",
    "min_of_b = b.min()\n",
    "print(min_of_b)"
   ]
  },
  {
   "cell_type": "code",
   "execution_count": 10,
   "id": "4f31dbba",
   "metadata": {},
   "outputs": [
    {
     "name": "stdout",
     "output_type": "stream",
     "text": [
      "8\n"
     ]
    }
   ],
   "source": [
    "# Exercise 3 - refactor the following maximum calculation to find the answer with numpy.\n",
    "max_of_b = b.max()\n",
    "print(max_of_b)"
   ]
  },
  {
   "cell_type": "code",
   "execution_count": 12,
   "id": "a57bc444",
   "metadata": {},
   "outputs": [
    {
     "name": "stdout",
     "output_type": "stream",
     "text": [
      "5.5\n"
     ]
    }
   ],
   "source": [
    "# Exercise 4 - refactor the following using numpy to find the mean of b\n",
    "mean_of_b = b.mean()\n",
    "print(mean_of_b)"
   ]
  },
  {
   "cell_type": "code",
   "execution_count": 14,
   "id": "1c9b39f9",
   "metadata": {},
   "outputs": [
    {
     "data": {
      "text/plain": [
       "20160"
      ]
     },
     "execution_count": 14,
     "metadata": {},
     "output_type": "execute_result"
    }
   ],
   "source": [
    "# Exercise 5 - refactor the following to use numpy for calculating the product of all numbers multiplied together.\n",
    "b.prod()"
   ]
  },
  {
   "cell_type": "code",
   "execution_count": 16,
   "id": "7ba1d649",
   "metadata": {},
   "outputs": [
    {
     "data": {
      "text/plain": [
       "array([[ 9, 16, 25],\n",
       "       [36, 49, 64]])"
      ]
     },
     "execution_count": 16,
     "metadata": {},
     "output_type": "execute_result"
    }
   ],
   "source": [
    "# Exercise 6 - refactor the following to use numpy to find the list of squares\n",
    "np.square(b)\n"
   ]
  },
  {
   "cell_type": "code",
   "execution_count": 17,
   "id": "015aad35",
   "metadata": {},
   "outputs": [
    {
     "data": {
      "text/plain": [
       "array([3, 5, 7])"
      ]
     },
     "execution_count": 17,
     "metadata": {},
     "output_type": "execute_result"
    }
   ],
   "source": [
    "# Exercise 7 - refactor using numpy to determine the odds_in_b\n",
    "b[b%2!=0]"
   ]
  },
  {
   "cell_type": "code",
   "execution_count": 18,
   "id": "381e7316",
   "metadata": {},
   "outputs": [
    {
     "data": {
      "text/plain": [
       "array([4, 6, 8])"
      ]
     },
     "execution_count": 18,
     "metadata": {},
     "output_type": "execute_result"
    }
   ],
   "source": [
    "# Exercise 8 - refactor the following to use numpy to filter only the even numbers\n",
    "b[b%2==0]"
   ]
  },
  {
   "cell_type": "code",
   "execution_count": 19,
   "id": "7e3d7a54",
   "metadata": {},
   "outputs": [
    {
     "name": "stdout",
     "output_type": "stream",
     "text": [
      "(2, 3)\n"
     ]
    }
   ],
   "source": [
    "# Exercise 9 - print out the shape of the array b.\n",
    "print(b.shape)"
   ]
  },
  {
   "cell_type": "code",
   "execution_count": null,
   "id": "6aede5e4",
   "metadata": {},
   "outputs": [],
   "source": [
    "#transpose the array b.\n"
   ]
  }
 ],
 "metadata": {
  "kernelspec": {
   "display_name": "Python 3",
   "language": "python",
   "name": "python3"
  },
  "language_info": {
   "codemirror_mode": {
    "name": "ipython",
    "version": 3
   },
   "file_extension": ".py",
   "mimetype": "text/x-python",
   "name": "python",
   "nbconvert_exporter": "python",
   "pygments_lexer": "ipython3",
   "version": "3.8.8"
  }
 },
 "nbformat": 4,
 "nbformat_minor": 5
}
