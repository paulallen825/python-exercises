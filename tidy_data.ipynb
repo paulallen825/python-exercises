{
 "cells": [
  {
   "cell_type": "code",
   "execution_count": 1,
   "id": "524a931c",
   "metadata": {},
   "outputs": [],
   "source": [
    "import pandas as pd\n",
    "import numpy as np\n",
    "import seaborn as sns\n",
    "from pydataset import data"
   ]
  },
  {
   "cell_type": "code",
   "execution_count": null,
   "id": "8683e0ed",
   "metadata": {},
   "outputs": [],
   "source": [
    "ecode_vals = {'A': 0, 'P': 1, 'T': 0.9, 'H': 0.5}\n",
    "df = df.replace(decode_vals)"
   ]
  },
  {
   "cell_type": "code",
   "execution_count": null,
   "id": "78c911b7",
   "metadata": {},
   "outputs": [],
   "source": [
    "attendance.replace(['P','A','T','H'],[1, 0, 0.9, 0.5])"
   ]
  }
 ],
 "metadata": {
  "kernelspec": {
   "display_name": "Python 3",
   "language": "python",
   "name": "python3"
  },
  "language_info": {
   "codemirror_mode": {
    "name": "ipython",
    "version": 3
   },
   "file_extension": ".py",
   "mimetype": "text/x-python",
   "name": "python",
   "nbconvert_exporter": "python",
   "pygments_lexer": "ipython3",
   "version": "3.8.8"
  }
 },
 "nbformat": 4,
 "nbformat_minor": 5
}
