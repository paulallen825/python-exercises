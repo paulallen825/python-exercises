{
 "cells": [
  {
   "cell_type": "code",
   "execution_count": null,
   "id": "e05ac03d",
   "metadata": {},
   "outputs": [],
   "source": [
    "#1Define a function named is_two. It should accept one input and return True if the passed input is either the number or the string 2, False otherwise."
   ]
  },
  {
   "cell_type": "code",
   "execution_count": null,
   "id": "52313acc",
   "metadata": {},
   "outputs": [],
   "source": [
    "def is_two(n):\n",
    "    result = n\n",
    "    if result == 2:\n",
    "        return True\n",
    "    elif result == '2':\n",
    "        return True\n",
    "    else: \n",
    "        return False\n",
    "     \n",
    "is_two(2)\n"
   ]
  },
  {
   "cell_type": "code",
   "execution_count": null,
   "id": "9266c4eb",
   "metadata": {},
   "outputs": [],
   "source": [
    "#2 Define a function named is_vowel. It should return True if the passed string is a vowel, False otherwise."
   ]
  },
  {
   "cell_type": "code",
   "execution_count": null,
   "id": "010c65cc",
   "metadata": {},
   "outputs": [],
   "source": [
    "def is_vowel(n):\n",
    "    vowel = n\n",
    "    if vowel in (\"a\",\"e\",\"i\",\"o\",\"u\"):\n",
    "        return True\n",
    "\n",
    "    else:\n",
    "        return False\n",
    "is_vowel('b')"
   ]
  },
  {
   "cell_type": "code",
   "execution_count": null,
   "id": "72573b02",
   "metadata": {},
   "outputs": [],
   "source": [
    "#3 Define a function named is_consonant. It should return True if the passed string is a consonant, False otherwise. Use your is_vowel function to accomplish this."
   ]
  },
  {
   "cell_type": "code",
   "execution_count": null,
   "id": "a2d4c502",
   "metadata": {},
   "outputs": [],
   "source": [
    "def is_consonant(n):\n",
    "    consonant = n\n",
    "    if is_vowel(consonant)==True:\n",
    "        return False\n",
    "    else:\n",
    "        return True\n",
    "is_consonant('b')\n",
    "    "
   ]
  },
  {
   "cell_type": "code",
   "execution_count": null,
   "id": "30d242d2",
   "metadata": {},
   "outputs": [],
   "source": [
    "#4 Define a function that accepts a string that is a word. The function should capitalize the first letter of the word if the word starts with a consonant."
   ]
  },
  {
   "cell_type": "code",
   "execution_count": null,
   "id": "f0cba35e",
   "metadata": {},
   "outputs": [],
   "source": [
    "def cap_consonant(n):\n",
    "    word = n\n",
    "    first_char=word[0]\n",
    "    print(first_char)\n",
    "    if is_consonant(first_char)== True:\n",
    "        new_word=word[0].upper()+word[1:]\n",
    "        print(new_word)\n",
    "        \n",
    "    \n",
    "cap_consonant('hello')\n",
    "    \n",
    "    "
   ]
  },
  {
   "cell_type": "code",
   "execution_count": null,
   "id": "dec450e2",
   "metadata": {},
   "outputs": [],
   "source": [
    "#5 Define a function named calculate_tip. It should accept a tip percentage (a number between 0 and 1) and the bill total, and return the amount to tip."
   ]
  },
  {
   "cell_type": "code",
   "execution_count": 1,
   "id": "feccb15d",
   "metadata": {},
   "outputs": [],
   "source": [
    "def calculate_tip(tip, bill_total):\n",
    "    new_tip = tip\n",
    "    print(new_tip)\n",
    "    new_bill_total=bill_total\n",
    "    print(new_bill_total)\n",
    "    \n",
    "\n",
    "    tip_perc = (float(new_tip) * .001) * (float(new_bill_total))\n",
    "    tip_amount = (float(tip_perc) / .1)\n",
    "    tip_format = \"{:.2f}\".format(tip_amount)\n",
    "    \n",
    "    print(f\"With a {new_tip}% tip for a total bill of ${new_bill_total} your tip amount will be: ${tip_format}\")\n",
    "\n",
    "    calculate_tip(10,50)"
   ]
  },
  {
   "cell_type": "code",
   "execution_count": null,
   "id": "2be4f19a",
   "metadata": {},
   "outputs": [],
   "source": [
    "#6 Define a function named apply_discount. It should accept a original price, and a discount percentage, and return the price after the discount is applied."
   ]
  },
  {
   "cell_type": "code",
   "execution_count": null,
   "id": "2cedd566",
   "metadata": {},
   "outputs": [],
   "source": [
    "#def appply_discount():\n",
    "discount =input('Please enter the discount percentage')\n",
    "print(discount)\n",
    "original_price = input('Please enter the original price')\n",
    "print(original_price)\n",
    "\n",
    "discount_perc = (float(discount) * .001) * (float(original_price))\n",
    "discount_amount = (float(discount_perc) / .1)\n",
    "discount_format = \"{:.2f}\".format(discount_amount)\n",
    "sale_price = (float(original_price)) - (float(discount_format))\n",
    "sale_price_format = \"{:.2f}\".format(sale_price)\n",
    "\n",
    "print(f\"\"\" {discount}% off the regular price of {original_price} is {discount_format}. The sale price will be ${sale_price_format}.\"\"\")"
   ]
  },
  {
   "cell_type": "code",
   "execution_count": null,
   "id": "60df9d00",
   "metadata": {},
   "outputs": [],
   "source": [
    "#7 Define a function named handle_commas. It should accept a string that is a number that contains commas in it as input, and return a number as output."
   ]
  },
  {
   "cell_type": "code",
   "execution_count": null,
   "id": "0680ee26",
   "metadata": {},
   "outputs": [],
   "source": [
    "#def handle_commas():\n",
    "n = input('enter your number')   \n",
    "number = n\n",
    "no_commas =\",\"\n",
    "for comma in no_commas:\n",
    "    number = number.replace(comma, \"\")\n",
    "    new_number=int(number)\n",
    "    print(new_number)\n",
    "    print(type(new_number))\n",
    "    \n",
    "     "
   ]
  },
  {
   "cell_type": "code",
   "execution_count": null,
   "id": "ea0b3130",
   "metadata": {},
   "outputs": [],
   "source": [
    "#8 Define a function named get_letter_grade. It should accept a number and return the letter grade associated with that number (A-F).\n",
    "    "
   ]
  },
  {
   "cell_type": "code",
   "execution_count": null,
   "id": "268cd5aa",
   "metadata": {},
   "outputs": [],
   "source": [
    "def get_letter_grade(number):\n",
    "    \n",
    "    if number <= 69:\n",
    "    \n",
    "        grade = \"F\"\n",
    "    \n",
    "    elif number <= 79:\n",
    "\n",
    "        grade = \"C\"\n",
    "\n",
    "    elif number <= 89:\n",
    "\n",
    "        grade = \"B\"\n",
    "\n",
    "    else:\n",
    "\n",
    "        grade = \"A\"\n",
    "\n",
    "    return grade"
   ]
  },
  {
   "cell_type": "code",
   "execution_count": null,
   "id": "5ac48666",
   "metadata": {},
   "outputs": [],
   "source": [
    "#9 Define a function named remove_vowels that accepts a string and returns a string with all the vowels removed."
   ]
  },
  {
   "cell_type": "code",
   "execution_count": null,
   "id": "39fcceb9",
   "metadata": {},
   "outputs": [],
   "source": [
    "def remove_vowels(string):\n",
    "    \n",
    "    no_vowels = \"\"\n",
    "\n",
    "    for char in string:\n",
    "\n",
    "        if char.lower() not in \"aeiou\":\n",
    "\n",
    "            no_vowels += char\n",
    "\n",
    "    return no_vowels"
   ]
  },
  {
   "cell_type": "code",
   "execution_count": null,
   "id": "af2f2b55",
   "metadata": {},
   "outputs": [],
   "source": [
    "#10 Define a function named normalize_name. It should accept a string and return a valid python identifier, that is:\n",
    "#anything that is not a valid python identifier should be removed\n",
    "#leading and trailing whitespace should be removed\n",
    "#everything should be lowercase\n",
    "#spaces should be replaced with underscores\n",
    "#for example:\n",
    "#Name will become name\n",
    "#First Name will become first_name\n",
    "#% Completed will become completed"
   ]
  },
  {
   "cell_type": "code",
   "execution_count": null,
   "id": "95586643",
   "metadata": {},
   "outputs": [],
   "source": [
    "def normalize_name(name):\n",
    "    '''\n",
    "    Converts string to valid python identifier\n",
    "    '''\n",
    "    \n",
    "    name = remove_symbols(name)  # Removes symbols\n",
    "    \n",
    "    name = front_and_back(name)  # Removes leading numbers and leading and trailing white space\n",
    "    \n",
    "    name = name.replace(\" \", \"_\") # replace spaces with underscores\n",
    "\n",
    "    name = name.lower() # lowercase string\n",
    "\n",
    "    return name"
   ]
  },
  {
   "cell_type": "code",
   "execution_count": null,
   "id": "f8493de8",
   "metadata": {},
   "outputs": [],
   "source": [
    "#11 Write a function named cumulative_sum that accepts a list of numbers and returns a list that is the cumulative sum of the numbers in the list.\n",
    "#cumulative_sum([1, 1, 1]) returns [1, 2, 3]\n",
    "#cumulative_sum([1, 2, 3, 4]) returns [1, 3, 6, 10]"
   ]
  },
  {
   "cell_type": "code",
   "execution_count": null,
   "id": "0c887324",
   "metadata": {},
   "outputs": [],
   "source": [
    "def cumulative_sum(input_list):\n",
    "    \n",
    "    sum_list = []\n",
    "\n",
    "    total = 0\n",
    "\n",
    "    for num in input_list:\n",
    "    \n",
    "        total += num\n",
    "    \n",
    "        sum_list.append(total)\n",
    "        \n",
    "    return sum_list"
   ]
  }
 ],
 "metadata": {
  "kernelspec": {
   "display_name": "Python 3",
   "language": "python",
   "name": "python3"
  },
  "language_info": {
   "codemirror_mode": {
    "name": "ipython",
    "version": 3
   },
   "file_extension": ".py",
   "mimetype": "text/x-python",
   "name": "python",
   "nbconvert_exporter": "python",
   "pygments_lexer": "ipython3",
   "version": "3.8.8"
  }
 },
 "nbformat": 4,
 "nbformat_minor": 5
}
