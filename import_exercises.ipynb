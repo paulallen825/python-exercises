{
 "cells": [
  {
   "cell_type": "code",
   "execution_count": null,
   "id": "40471413",
   "metadata": {},
   "outputs": [],
   "source": [
    "from functions_exercises import get_letter_grade\n",
    "\n",
    "get_letter_grade()"
   ]
  },
  {
   "cell_type": "code",
   "execution_count": 3,
   "id": "a5dce612",
   "metadata": {},
   "outputs": [
    {
     "data": {
      "text/plain": [
       "12"
      ]
     },
     "execution_count": 3,
     "metadata": {},
     "output_type": "execute_result"
    }
   ],
   "source": [
    "from itertools import permutations\n",
    "\n",
    "len(list(permutations('abcd',2)))\n",
    "\n",
    "\n"
   ]
  },
  {
   "cell_type": "code",
   "execution_count": 2,
   "id": "4d6551dd",
   "metadata": {},
   "outputs": [
    {
     "data": {
      "text/plain": [
       "6"
      ]
     },
     "execution_count": 2,
     "metadata": {},
     "output_type": "execute_result"
    }
   ],
   "source": [
    "from itertools import combinations\n",
    "\n",
    "len(list(combinations(\"abcd\",2)))\n"
   ]
  },
  {
   "cell_type": "code",
   "execution_count": 1,
   "id": "5316604e",
   "metadata": {},
   "outputs": [
    {
     "data": {
      "text/plain": [
       "9"
      ]
     },
     "execution_count": 1,
     "metadata": {},
     "output_type": "execute_result"
    }
   ],
   "source": [
    "from itertools import product\n",
    "\n",
    "len(list(product(\"abc\",'123')))"
   ]
  },
  {
   "cell_type": "code",
   "execution_count": 4,
   "id": "95a30c04",
   "metadata": {},
   "outputs": [
    {
     "name": "stdout",
     "output_type": "stream",
     "text": [
      "19\n"
     ]
    }
   ],
   "source": [
    "import json\n",
    "\n",
    "profiles = json.load(open('profiles.json'))\n",
    "print(len(profiles))"
   ]
  },
  {
   "cell_type": "code",
   "execution_count": null,
   "id": "6f97c024",
   "metadata": {
    "scrolled": true
   },
   "outputs": [],
   "source": [
    "profiles[1] ['isActive']"
   ]
  },
  {
   "cell_type": "code",
   "execution_count": null,
   "id": "3b26a4fd",
   "metadata": {},
   "outputs": [],
   "source": [
    "user_status =[profile['isActive']for profile in profiles]\n",
    "active_user = user_status.count(True)\n",
    "print(active_user)\n",
    "        "
   ]
  },
  {
   "cell_type": "code",
   "execution_count": null,
   "id": "6ef5f2b8",
   "metadata": {},
   "outputs": [],
   "source": [
    "user_status=[profile['isActive']for profile in profiles]\n",
    "active_user = user_status.count(False)\n",
    "print(active_user)"
   ]
  },
  {
   "cell_type": "code",
   "execution_count": null,
   "id": "6e7c0079",
   "metadata": {},
   "outputs": [],
   "source": [
    "## Data Cleaning 101\n",
    "# How would we clean one string?\n",
    "balance = \"$1,234.56\"\n",
    "balance = balance.replace(\"$\", \"\") # Replacing character with \"\" empty string is how to remove them\n",
    "print(balance)\n",
    "balance = balance.replace(\",\", \"\")\n",
    "print(balance)\n",
    "print(type(balance))\n",
    "balance = float(balance)\n",
    "print(type(balance))\n",
    "balance"
   ]
  },
  {
   "cell_type": "code",
   "execution_count": null,
   "id": "7021ee6d",
   "metadata": {},
   "outputs": [],
   "source": [
    " The above sequence of steps would make a great function!\n",
    "def handle_balance(balance):\n",
    "    balance = balance.replace(\"$\", \"\")\n",
    "    balance = balance.replace(\",\", \"\")a\n",
    "    return float(balance)\n",
    "\n",
    "# Automated Unit Tests to prove that this function works (Quality Assurance)\n",
    "assert handle_balance(\"$1,234.56\") == 1234.56\n",
    "assert handle_balance(\"$1,234,567.89\") == 1234567.89\n"
   ]
  },
  {
   "cell_type": "code",
   "execution_count": null,
   "id": "8f9f0f6a",
   "metadata": {},
   "outputs": [],
   "source": [
    "# Lets clean all the balance values now and reassign the profiles variable\n",
    "for profile in profiles:\n",
    "    # Since we're assigning a dictionary key/value in place, we don't need a new list\n",
    "    # We're assigning the balance variable to hold the return value\n",
    "    profile[\"balance\"] = handle_balance(profile[\"balance\"])"
   ]
  },
  {
   "cell_type": "code",
   "execution_count": null,
   "id": "1b6f3904",
   "metadata": {},
   "outputs": [],
   "source": [
    "profiles[0][\"balance\"]"
   ]
  },
  {
   "cell_type": "code",
   "execution_count": null,
   "id": "346757d8",
   "metadata": {},
   "outputs": [],
   "source": [
    "# Total number of users?\n",
    "number_of_profiles = len(profiles)\n",
    "number_of_profiles"
   ]
  },
  {
   "cell_type": "code",
   "execution_count": null,
   "id": "ea3a6629",
   "metadata": {},
   "outputs": [],
   "source": [
    "# number of active users\n",
    "only_active_users = [profile for profile in profiles if profile[\"isActive\"]]\n",
    "active_user_count = len(only_active_users)\n",
    "active_user_count"
   ]
  },
  {
   "cell_type": "code",
   "execution_count": null,
   "id": "fcf024a2",
   "metadata": {},
   "outputs": [],
   "source": [
    "# number of inactive users\n",
    "# inactive_user_count = len([profile for profile in profiles if profile[\"isActive\"] == False])\n",
    "inactive_user_count = len([profile for profile in profiles if not profile[\"isActive\"]])\n",
    "inactive_user_count"
   ]
  },
  {
   "cell_type": "code",
   "execution_count": null,
   "id": "08311326",
   "metadata": {},
   "outputs": [],
   "source": [
    "# Grand total of balances for all users\n",
    "# Create an accumulator variable\n",
    "total_balance = 0 \n",
    "\n",
    "for profile in profiles:\n",
    "    # total_balance = total_balance + profile[\"balance\"]\n",
    "    # new_value = old_value + something\n",
    "    total_balance += profile[\"balance\"]\n",
    "\n",
    "total_balance"
   ]
  },
  {
   "cell_type": "code",
   "execution_count": null,
   "id": "f17b11a9",
   "metadata": {},
   "outputs": [],
   "source": [
    "# Average balance per user\n",
    "avg_balance = round(total_balance / number_of_profiles, 2)\n",
    "avg_balance"
   ]
  },
  {
   "cell_type": "code",
   "execution_count": null,
   "id": "96cd427a",
   "metadata": {},
   "outputs": [],
   "source": [
    "min([1, 2, 3, -33])"
   ]
  },
  {
   "cell_type": "code",
   "execution_count": null,
   "id": "c1d6c718",
   "metadata": {},
   "outputs": [],
   "source": [
    "# User with the lowest balance\n",
    "# We could use min with a lambda here\n",
    "user_with_lowest_balance = min(profiles, key=lambda x: x[\"balance\"])\n",
    "print(type(user_with_lowest_balance))\n",
    "user_with_lowest_balance"
   ]
  },
  {
   "cell_type": "code",
   "execution_count": null,
   "id": "f8436c0a",
   "metadata": {},
   "outputs": [],
   "source": [
    "# User with the highest balance\n",
    "# Hey Python, sort the list of dictionaries by the key called \"balance\", then get the highest balance\n",
    "max(profiles, key=lambda x: x[\"balance\"])"
   ]
  },
  {
   "cell_type": "code",
   "execution_count": null,
   "id": "e020708a",
   "metadata": {},
   "outputs": [],
   "source": [
    "# Find the user with the highest north latitude\n",
    "max(profiles, key=lambda x: x[\"latitude\"])"
   ]
  },
  {
   "cell_type": "code",
   "execution_count": null,
   "id": "954d35da",
   "metadata": {},
   "outputs": [],
   "source": [
    "# Oldest person in this data set\n",
    "max(profiles, key=lambda x: x[\"age\"])"
   ]
  },
  {
   "cell_type": "code",
   "execution_count": null,
   "id": "e2a91fa2",
   "metadata": {},
   "outputs": [],
   "source": []
  }
 ],
 "metadata": {
  "kernelspec": {
   "display_name": "Python 3",
   "language": "python",
   "name": "python3"
  },
  "language_info": {
   "codemirror_mode": {
    "name": "ipython",
    "version": 3
   },
   "file_extension": ".py",
   "mimetype": "text/x-python",
   "name": "python",
   "nbconvert_exporter": "python",
   "pygments_lexer": "ipython3",
   "version": "3.8.8"
  }
 },
 "nbformat": 4,
 "nbformat_minor": 5
}
