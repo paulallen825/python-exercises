{
 "cells": [
  {
   "cell_type": "code",
   "execution_count": null,
   "id": "73b93a6d",
   "metadata": {},
   "outputs": [],
   "source": [
    "from functions_exercises import get_letter_grade\n",
    "\n",
    "get_letter_grade()"
   ]
  },
  {
   "cell_type": "code",
   "execution_count": null,
   "id": "c182c1f7",
   "metadata": {},
   "outputs": [],
   "source": [
    "from itertools import permutations\n",
    "\n",
    "len(list(permutations('abcd',2)))\n",
    "\n",
    "\n"
   ]
  },
  {
   "cell_type": "code",
   "execution_count": null,
   "id": "2ee328de",
   "metadata": {},
   "outputs": [],
   "source": [
    "from itertools import combinations\n",
    "\n",
    "len(list(combinations(\"abcd\",2)))\n"
   ]
  },
  {
   "cell_type": "code",
   "execution_count": null,
   "id": "03eff47c",
   "metadata": {},
   "outputs": [],
   "source": [
    "from itertools import product\n",
    "\n",
    "len(list(product(\"abc\",'123')))"
   ]
  },
  {
   "cell_type": "code",
   "execution_count": 1,
   "id": "f05a6ac8",
   "metadata": {},
   "outputs": [
    {
     "ename": "SyntaxError",
     "evalue": "unexpected EOF while parsing (<ipython-input-1-799420b4ea05>, line 3)",
     "output_type": "error",
     "traceback": [
      "\u001b[0;36m  File \u001b[0;32m\"<ipython-input-1-799420b4ea05>\"\u001b[0;36m, line \u001b[0;32m3\u001b[0m\n\u001b[0;31m    json.load(open('profiles.json')\u001b[0m\n\u001b[0m                                   ^\u001b[0m\n\u001b[0;31mSyntaxError\u001b[0m\u001b[0;31m:\u001b[0m unexpected EOF while parsing\n"
     ]
    }
   ],
   "source": [
    "import json\n",
    "\n",
    "json.load(open('profiles.json')"
   ]
  },
  {
   "cell_type": "code",
   "execution_count": null,
   "id": "0e2c1eb6",
   "metadata": {},
   "outputs": [],
   "source": []
  }
 ],
 "metadata": {
  "kernelspec": {
   "display_name": "Python 3",
   "language": "python",
   "name": "python3"
  },
  "language_info": {
   "codemirror_mode": {
    "name": "ipython",
    "version": 3
   },
   "file_extension": ".py",
   "mimetype": "text/x-python",
   "name": "python",
   "nbconvert_exporter": "python",
   "pygments_lexer": "ipython3",
   "version": "3.8.8"
  }
 },
 "nbformat": 4,
 "nbformat_minor": 5
}
