{
 "cells": [
  {
   "cell_type": "markdown",
   "id": "cd6618d6",
   "metadata": {},
   "source": [
    "Use the following code to answer the questions."
   ]
  },
  {
   "cell_type": "code",
   "execution_count": 2,
   "id": "9309045b",
   "metadata": {},
   "outputs": [
    {
     "data": {
      "text/plain": [
       "array([ 4, 10, 12, 23, -2, -1,  0,  0,  0, -6,  3, -7])"
      ]
     },
     "execution_count": 2,
     "metadata": {},
     "output_type": "execute_result"
    }
   ],
   "source": [
    "import numpy as np\n",
    "\n",
    "a = np.array([4, 10, 12, 23, -2, -1, 0, 0, 0, -6, 3, -7])\n",
    "a"
   ]
  },
  {
   "cell_type": "markdown",
   "id": "57e80f9c",
   "metadata": {},
   "source": [
    "1. How many negative numbers are there?"
   ]
  },
  {
   "cell_type": "code",
   "execution_count": 39,
   "id": "3c97f875",
   "metadata": {},
   "outputs": [
    {
     "data": {
      "text/plain": [
       "4"
      ]
     },
     "execution_count": 39,
     "metadata": {},
     "output_type": "execute_result"
    }
   ],
   "source": [
    "#Getting the array of negatives\n",
    "a[a<0]\n",
    "\n",
    "#Using length to check the amount of numbers in the negative array\n",
    "len(a[a<0])\n"
   ]
  },
  {
   "cell_type": "markdown",
   "id": "44f8e862",
   "metadata": {},
   "source": [
    "2. How many positive numbers are there?"
   ]
  },
  {
   "cell_type": "code",
   "execution_count": 6,
   "id": "27a606b8",
   "metadata": {},
   "outputs": [
    {
     "data": {
      "text/plain": [
       "5"
      ]
     },
     "execution_count": 6,
     "metadata": {},
     "output_type": "execute_result"
    }
   ],
   "source": [
    "len(a[a>0])"
   ]
  },
  {
   "cell_type": "markdown",
   "id": "1d0810c3",
   "metadata": {},
   "source": [
    "3.How many even positive numbers are there?"
   ]
  },
  {
   "cell_type": "code",
   "execution_count": 49,
   "id": "7fb4e3ad",
   "metadata": {},
   "outputs": [
    {
     "name": "stdout",
     "output_type": "stream",
     "text": [
      "[ 4 10 12]\n"
     ]
    },
    {
     "data": {
      "text/plain": [
       "3"
      ]
     },
     "execution_count": 49,
     "metadata": {},
     "output_type": "execute_result"
    }
   ],
   "source": [
    "b = a[a % 2== 0]\n",
    "b[b>0]\n",
    "print(b[b>0])\n",
    "len(b[b>0])\n",
    "\n"
   ]
  },
  {
   "cell_type": "markdown",
   "id": "884dc2b8",
   "metadata": {},
   "source": [
    "4.If you were to add 3 to each data point, how many positive numbers would there be?"
   ]
  },
  {
   "cell_type": "code",
   "execution_count": 22,
   "id": "ad30d0c9",
   "metadata": {},
   "outputs": [
    {
     "data": {
      "text/plain": [
       "10"
      ]
     },
     "execution_count": 22,
     "metadata": {},
     "output_type": "execute_result"
    }
   ],
   "source": [
    "c = a + 3\n",
    "len(c[c>0])\n"
   ]
  },
  {
   "cell_type": "markdown",
   "id": "a7b62f25",
   "metadata": {},
   "source": [
    "5.If you squared each number, what would the new mean and standard deviation be?"
   ]
  },
  {
   "cell_type": "code",
   "execution_count": 37,
   "id": "c80c952c",
   "metadata": {},
   "outputs": [
    {
     "name": "stdout",
     "output_type": "stream",
     "text": [
      "[ 16 100 144 529   4   1   0   0   0  36   9  49]\n",
      "74.0\n",
      "144.0243035046516\n"
     ]
    }
   ],
   "source": [
    "square = a ** 2\n",
    "print(square)\n",
    "print(square.mean())\n",
    "print(square.std())"
   ]
  },
  {
   "cell_type": "markdown",
   "id": "1d6875ba",
   "metadata": {},
   "source": [
    "6.A common statistical operation on a dataset is centering. \n",
    "This means to adjust the data such that the mean of the data is 0. \n",
    "This is done by subtracting the mean from each data point.\n",
    "Center the data set. See this link for more on centering."
   ]
  },
  {
   "cell_type": "code",
   "execution_count": 36,
   "id": "288bf0aa",
   "metadata": {},
   "outputs": [
    {
     "name": "stdout",
     "output_type": "stream",
     "text": [
      "3.0\n",
      "[  1   7   9  20  -5  -4  -3  -3  -3  -9   0 -10]\n",
      "0.0\n"
     ]
    }
   ],
   "source": [
    "the_mean = a.mean()\n",
    "print(the_mean)\n",
    "new_mean_array =a-3\n",
    "print(new_mean_array)\n",
    "latest_mean = new_mean_array.mean()\n",
    "print(latest_mean)"
   ]
  },
  {
   "cell_type": "markdown",
   "id": "c3994b22",
   "metadata": {},
   "source": [
    "7. Calculate the z-score for each data point."
   ]
  },
  {
   "cell_type": "code",
   "execution_count": 38,
   "id": "b2d41346",
   "metadata": {},
   "outputs": [
    {
     "name": "stdout",
     "output_type": "stream",
     "text": [
      "[ 0.12403473  0.86824314  1.11631261  2.48069469 -0.62017367 -0.49613894\n",
      " -0.3721042  -0.3721042  -0.3721042  -1.11631261  0.         -1.24034735]\n"
     ]
    }
   ],
   "source": [
    "z=(a-a.mean())/(a.std())\n",
    "print(z)"
   ]
  },
  {
   "cell_type": "code",
   "execution_count": null,
   "id": "dc621675",
   "metadata": {},
   "outputs": [],
   "source": []
  }
 ],
 "metadata": {
  "kernelspec": {
   "display_name": "Python 3",
   "language": "python",
   "name": "python3"
  },
  "language_info": {
   "codemirror_mode": {
    "name": "ipython",
    "version": 3
   },
   "file_extension": ".py",
   "mimetype": "text/x-python",
   "name": "python",
   "nbconvert_exporter": "python",
   "pygments_lexer": "ipython3",
   "version": "3.8.8"
  }
 },
 "nbformat": 4,
 "nbformat_minor": 5
}
