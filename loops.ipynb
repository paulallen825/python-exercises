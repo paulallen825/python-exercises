{
 "cells": [
  {
   "cell_type": "code",
   "execution_count": null,
   "id": "d21b3b9a",
   "metadata": {},
   "outputs": [],
   "source": [
    " day_of_week = input (\"Please enter the day of the week\")\n",
    "if day_of_week ==\"Monday\":\n",
    "    print(\"Today is Monday\")\n",
    "else:\n",
    "    print(\"Today is not Monday\")"
   ]
  },
  {
   "cell_type": "code",
   "execution_count": null,
   "id": "a5acf496",
   "metadata": {},
   "outputs": [],
   "source": [
    "day_of_week = input(\"Please enter the day of the week \")\n",
    "if day_of_week ==(\"Monday\"or \"Tuesday\" or\"Wednesday\"or\"Thursday\"or\"Friday\"):\n",
    "    print(\"Today is a weekday\")\n",
    "else:\n",
    "    print(\"Its the weekend!\")"
   ]
  },
  {
   "cell_type": "code",
   "execution_count": null,
   "id": "a4017646",
   "metadata": {},
   "outputs": [],
   "source": [
    "hours_worked = 41\n",
    "hourly_rate = 120\n",
    "Reg_pay = hours_worked * hourly_rate\n",
    "Over_pay = (40 *hourly_rate) +((hours_worked - 40) * (hourly_rate*1.5))\n",
    "\n",
    "if hours_worked > 40:\n",
    "        print(Over_pay)\n",
    "else:\n",
    "    print(Reg_pay)\n",
    "\n",
    "\n"
   ]
  },
  {
   "cell_type": "code",
   "execution_count": null,
   "id": "d084f8cc",
   "metadata": {},
   "outputs": [],
   "source": [
    "i = int(5)\n",
    "while i <=15:\n",
    "    print(i)\n",
    "    i+=1"
   ]
  },
  {
   "cell_type": "code",
   "execution_count": null,
   "id": "a0ae326a",
   "metadata": {},
   "outputs": [],
   "source": [
    "for i in range (0,101):\n",
    "    if i % 2 == 0:\n",
    "        print(i)"
   ]
  },
  {
   "cell_type": "code",
   "execution_count": null,
   "id": "03f2c955",
   "metadata": {},
   "outputs": [],
   "source": [
    "i = 100\n",
    "while i <=100 and i >= -10:\n",
    "    print(i)\n",
    "    i-=5"
   ]
  },
  {
   "cell_type": "code",
   "execution_count": null,
   "id": "7c9844fc",
   "metadata": {},
   "outputs": [],
   "source": [
    "i = 2\n",
    "while i <=100 and i % 2 ==0:\n",
    "    print(i)\n",
    "    i+=2"
   ]
  },
  {
   "cell_type": "code",
   "execution_count": null,
   "id": "4f162a13",
   "metadata": {},
   "outputs": [],
   "source": [
    "i = 2\n",
    "while i <=1000000:\n",
    "    print(i)\n",
    "    \n",
    "    i=pow(i,2)"
   ]
  },
  {
   "cell_type": "code",
   "execution_count": null,
   "id": "dc073801",
   "metadata": {},
   "outputs": [],
   "source": [
    "i = 100\n",
    "while i <=100 and i >= 5:\n",
    "    print(i)\n",
    "    i-=5"
   ]
  },
  {
   "cell_type": "code",
   "execution_count": null,
   "id": "2efae0a1",
   "metadata": {},
   "outputs": [],
   "source": [
    "\n",
    "num = int(input(\" Enter the number : \")) #taking the input and turning it to an integer   \n",
    "    print(\"Multiplication Table of : \")  #The statement to print\n",
    "for i in range(1,11):                    #creating the range to multiply the input by with the for statement \"i\"\n",
    "    print(num,'x',i,'=',num*i)\n",
    "   "
   ]
  },
  {
   "cell_type": "code",
   "execution_count": 3,
   "id": "5687373e",
   "metadata": {
    "scrolled": false
   },
   "outputs": [
    {
     "name": "stdout",
     "output_type": "stream",
     "text": [
      "1\n",
      "22\n",
      "333\n",
      "4444\n",
      "55555\n",
      "666666\n",
      "7777777\n",
      "88888888\n",
      "999999999\n"
     ]
    }
   ],
   "source": [
    "for i in range(1,10): #creating the range starting at 1 and ending at 9\n",
    "    cn=str(i)         #changing the input i to a string and creating a variable cn\n",
    "    print (cn * i)    #printing the new string number \"cn\" the number of times in the range \"i\" 1-9\n"
   ]
  },
  {
   "cell_type": "code",
   "execution_count": null,
   "id": "722e960e",
   "metadata": {},
   "outputs": [],
   "source": [
    "user_num = input('Enter odd number')\n",
    "\n",
    "while user_num.isdigit() == False:             \n",
    "    print(\"The input provided is not numeric.\")\n",
    "    user_num = input('Enter odd number')\n",
    "    print(f\"You input the value of {user_num}\")\n",
    "    \n",
    "    want_out = input(\"Do you want to stop the madness and exit the loop without needing a number here?\")\n",
    "    if want_out == \"yes\" or want_out == \"y\":\n",
    "        break\n",
    "    if want_out == \"no\" or want_out == \"n\":\n",
    "        continue\n",
    "        \n",
    "    \n",
    "\n",
    "    \n",
    "        \n",
    "                \n",
    "        \n",
    "        \n"
   ]
  },
  {
   "cell_type": "code",
   "execution_count": 1,
   "id": "1eab2191",
   "metadata": {},
   "outputs": [
    {
     "name": "stdout",
     "output_type": "stream",
     "text": [
      "1\n",
      "2\n",
      "3\n"
     ]
    }
   ],
   "source": [
    "i = 1\n",
    "while i < 6:\n",
    "  print(i)\n",
    "  if i == 3:\n",
    "    break\n",
    "  i += 1"
   ]
  },
  {
   "cell_type": "code",
   "execution_count": 2,
   "id": "526bee45",
   "metadata": {},
   "outputs": [
    {
     "name": "stdout",
     "output_type": "stream",
     "text": [
      "1\n",
      "2\n",
      "4\n",
      "5\n",
      "6\n"
     ]
    }
   ],
   "source": [
    "i = 0\n",
    "while i < 6:\n",
    "  i += 1\n",
    "  if i == 3:\n",
    "    continue\n",
    "  print(i)"
   ]
  },
  {
   "cell_type": "code",
   "execution_count": 7,
   "id": "24a01d8f",
   "metadata": {},
   "outputs": [
    {
     "ename": "ValueError",
     "evalue": "int() base must be >= 2 and <= 36, or 0",
     "output_type": "error",
     "traceback": [
      "\u001b[0;31m---------------------------------------------------------------------------\u001b[0m",
      "\u001b[0;31mValueError\u001b[0m                                Traceback (most recent call last)",
      "\u001b[0;32m<ipython-input-7-19de0561021c>\u001b[0m in \u001b[0;36m<module>\u001b[0;34m\u001b[0m\n\u001b[1;32m      1\u001b[0m \u001b[0ma\u001b[0m \u001b[0;34m=\u001b[0m\u001b[0;36m1\u001b[0m\u001b[0;34m\u001b[0m\u001b[0;34m\u001b[0m\u001b[0m\n\u001b[1;32m      2\u001b[0m \u001b[0mb\u001b[0m \u001b[0;34m=\u001b[0m\u001b[0;36m1\u001b[0m\u001b[0;34m\u001b[0m\u001b[0;34m\u001b[0m\u001b[0m\n\u001b[0;32m----> 3\u001b[0;31m \u001b[0mpower\u001b[0m \u001b[0;34m=\u001b[0m\u001b[0mpow\u001b[0m\u001b[0;34m(\u001b[0m\u001b[0mint\u001b[0m\u001b[0;34m(\u001b[0m\u001b[0ma\u001b[0m\u001b[0;34m,\u001b[0m\u001b[0mb\u001b[0m\u001b[0;34m)\u001b[0m\u001b[0;34m)\u001b[0m\u001b[0;34m\u001b[0m\u001b[0;34m\u001b[0m\u001b[0m\n\u001b[0m\u001b[1;32m      4\u001b[0m \u001b[0;34m\u001b[0m\u001b[0m\n\u001b[1;32m      5\u001b[0m \u001b[0mprint\u001b[0m\u001b[0;34m(\u001b[0m\u001b[0mpower\u001b[0m\u001b[0;34m)\u001b[0m\u001b[0;34m\u001b[0m\u001b[0;34m\u001b[0m\u001b[0m\n",
      "\u001b[0;31mValueError\u001b[0m: int() base must be >= 2 and <= 36, or 0"
     ]
    }
   ],
   "source": [
    "a =1\n",
    "b =1\n",
    "power =pow(int(a,b))\n",
    "\n",
    "print(power)"
   ]
  },
  {
   "cell_type": "code",
   "execution_count": 8,
   "id": "b471c620",
   "metadata": {},
   "outputs": [
    {
     "data": {
      "text/plain": [
       "1"
      ]
     },
     "execution_count": 8,
     "metadata": {},
     "output_type": "execute_result"
    }
   ],
   "source": [
    "pow(int(1),int(2))"
   ]
  },
  {
   "cell_type": "code",
   "execution_count": null,
   "id": "adbbacd7",
   "metadata": {},
   "outputs": [],
   "source": []
  }
 ],
 "metadata": {
  "kernelspec": {
   "display_name": "Python 3",
   "language": "python",
   "name": "python3"
  },
  "language_info": {
   "codemirror_mode": {
    "name": "ipython",
    "version": 3
   },
   "file_extension": ".py",
   "mimetype": "text/x-python",
   "name": "python",
   "nbconvert_exporter": "python",
   "pygments_lexer": "ipython3",
   "version": "3.8.8"
  }
 },
 "nbformat": 4,
 "nbformat_minor": 5
}
