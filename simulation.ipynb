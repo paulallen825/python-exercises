{
 "cells": [
  {
   "cell_type": "code",
   "execution_count": 2,
   "id": "ce844f2d",
   "metadata": {
    "scrolled": true
   },
   "outputs": [],
   "source": [
    "import pandas as pd\n",
    "import numpy as np"
   ]
  },
  {
   "cell_type": "code",
   "execution_count": 4,
   "id": "2147c157",
   "metadata": {},
   "outputs": [
    {
     "data": {
      "text/plain": [
       "(array([2, 1, 2]), array([1, 1, 3]))"
      ]
     },
     "execution_count": 4,
     "metadata": {},
     "output_type": "execute_result"
    }
   ],
   "source": [
    "#1 How likely is it that you roll doubles when rolling two dice?\n",
    "outcomes = [1, 2, 3, 4, 5, 6]\n",
    "n_simulations = 10_000\n",
    "\n",
    "die1 = np.random.choice(outcomes, size=n_simulations)\n",
    "die2 = np.random.choice(outcomes, size=n_simulations)\n",
    "\n",
    "# Each array here shares an index where index = simulation_number\n",
    "die1[0:3], die2[0:3]\n"
   ]
  },
  {
   "cell_type": "code",
   "execution_count": 5,
   "id": "3b6f55fb",
   "metadata": {},
   "outputs": [
    {
     "data": {
      "text/plain": [
       "0.1689"
      ]
     },
     "execution_count": 5,
     "metadata": {},
     "output_type": "execute_result"
    }
   ],
   "source": [
    "(die1 == die2).mean()"
   ]
  },
  {
   "cell_type": "code",
   "execution_count": null,
   "id": "82b7d1f5",
   "metadata": {},
   "outputs": [],
   "source": [
    "#If you flip 8 coins, what is the probability of getting exactly 3 heads? \n",
    "#What is the probability of getting more than 3 heads?"
   ]
  },
  {
   "cell_type": "code",
   "execution_count": 12,
   "id": "c8833b55",
   "metadata": {},
   "outputs": [],
   "source": [
    "# Let's answer questions experimentally rather than theoretically\n",
    "# What's the probability of flipping \"Heads\" on a coin?\n",
    "\n",
    "# Let's flip a coin 100,000 times and figure out the probability of flipping \"Heads\"\n",
    "\n",
    "# Let's find a way to represent out data\n",
    "outcomes = [\"Heads\", \"Tails\"]\n",
    "\n",
    "flips = np.random.choice(outcomes, size=(10_000, 8))\n",
    "\n",
    "\n",
    "\n",
    "#(flips == \"Heads\").mean()"
   ]
  },
  {
   "cell_type": "code",
   "execution_count": 13,
   "id": "1826bb23",
   "metadata": {},
   "outputs": [
    {
     "data": {
      "text/plain": [
       "array([[1, 0, 1, 1, 0, 0, 0, 1],\n",
       "       [0, 0, 1, 0, 0, 1, 1, 1],\n",
       "       [0, 1, 1, 0, 0, 0, 0, 1],\n",
       "       [1, 1, 0, 1, 1, 0, 0, 0]])"
      ]
     },
     "execution_count": 13,
     "metadata": {},
     "output_type": "execute_result"
    }
   ],
   "source": [
    "# It'll be a bit easier to check for two heads if the head = 1 and tail is 0\n",
    "# might as well turn a binary into a binary\n",
    "\n",
    "# let's say Heads is 1 and Tails is 0\n",
    "outcomes = [1, 0]\n",
    "flips = np.random.choice(outcomes, size=(10_000, 8))\n",
    "flips[0:4]"
   ]
  },
  {
   "cell_type": "code",
   "execution_count": 14,
   "id": "a0823828",
   "metadata": {},
   "outputs": [
    {
     "data": {
      "text/plain": [
       "array([4, 4, 3, ..., 4, 5, 5])"
      ]
     },
     "execution_count": 14,
     "metadata": {},
     "output_type": "execute_result"
    }
   ],
   "source": [
    "# axis=1 to sum across the rows, so we have as many sums as we had pairs of coin flips\n",
    "num_of_heads = flips.sum(axis=1)\n",
    "num_of_heads"
   ]
  },
  {
   "cell_type": "code",
   "execution_count": 15,
   "id": "fb89d5aa",
   "metadata": {},
   "outputs": [
    {
     "data": {
      "text/plain": [
       "0.2179"
      ]
     },
     "execution_count": 15,
     "metadata": {},
     "output_type": "execute_result"
    }
   ],
   "source": [
    "(num_of_heads == 3).mean()"
   ]
  },
  {
   "cell_type": "code",
   "execution_count": 16,
   "id": "dd815e4e",
   "metadata": {},
   "outputs": [
    {
     "data": {
      "text/plain": [
       "0.6441"
      ]
     },
     "execution_count": 16,
     "metadata": {},
     "output_type": "execute_result"
    }
   ],
   "source": [
    "(num_of_heads > 3).mean()"
   ]
  },
  {
   "cell_type": "code",
   "execution_count": 19,
   "id": "2d1a9ce9",
   "metadata": {},
   "outputs": [],
   "source": [
    "#3 #There are approximitely 3 web development cohorts for every 1 data science cohort at Codeup.\n",
    "#Assuming that Codeup randomly selects an alumni \n",
    "#to put on a billboard, what are the odds that the two billboards I drive past both have data science students on them?"
   ]
  },
  {
   "cell_type": "code",
   "execution_count": null,
   "id": "7fa6e2ca",
   "metadata": {},
   "outputs": [],
   "source": [
    "#webdevelopment to datascience 3:1\n",
    "#randomly selected alumni\n",
    "#odds two billboards have data science students"
   ]
  },
  {
   "cell_type": "code",
   "execution_count": 38,
   "id": "e6ac646d",
   "metadata": {},
   "outputs": [],
   "source": [
    "outcomes = [1, 0]\n",
    "chances = np.random.choice(outcomes, size=(10_000, 2), p=[0.75, 0.25])\n"
   ]
  },
  {
   "cell_type": "code",
   "execution_count": 46,
   "id": "3e56bc70",
   "metadata": {},
   "outputs": [],
   "source": [
    "billboards = chances.sum(axis=1)"
   ]
  },
  {
   "cell_type": "code",
   "execution_count": 49,
   "id": "6b59df82",
   "metadata": {},
   "outputs": [
    {
     "data": {
      "text/plain": [
       "array([2, 1, 2, 2, 2, 1, 2, 1, 1, 1])"
      ]
     },
     "execution_count": 49,
     "metadata": {},
     "output_type": "execute_result"
    }
   ],
   "source": [
    "billboards[0:10]"
   ]
  },
  {
   "cell_type": "code",
   "execution_count": 47,
   "id": "22f19466",
   "metadata": {},
   "outputs": [
    {
     "data": {
      "text/plain": [
       "0.5636"
      ]
     },
     "execution_count": 47,
     "metadata": {},
     "output_type": "execute_result"
    }
   ],
   "source": [
    "(billboards==2).mean()"
   ]
  },
  {
   "cell_type": "code",
   "execution_count": 57,
   "id": "b1f80116",
   "metadata": {},
   "outputs": [],
   "source": [
    "poptarts = np.random.normal(1.5, 4.5,(1_000_000,5))\n"
   ]
  },
  {
   "cell_type": "code",
   "execution_count": 58,
   "id": "5583879d",
   "metadata": {},
   "outputs": [],
   "source": [
    "sum_of_poptarts= poptarts.sum(axis =1)"
   ]
  },
  {
   "cell_type": "code",
   "execution_count": 59,
   "id": "41f18b5b",
   "metadata": {},
   "outputs": [
    {
     "data": {
      "text/plain": [
       "0.172213"
      ]
     },
     "execution_count": 59,
     "metadata": {},
     "output_type": "execute_result"
    }
   ],
   "source": [
    "(sum_of_poptarts > 17).mean()"
   ]
  },
  {
   "cell_type": "code",
   "execution_count": 60,
   "id": "419f82f4",
   "metadata": {},
   "outputs": [],
   "source": [
    "poptarts = np.random.normal(loc =3, scale = 1.5,size=(1_000_000,5))"
   ]
  },
  {
   "cell_type": "code",
   "execution_count": 61,
   "id": "145b2ed4",
   "metadata": {},
   "outputs": [
    {
     "data": {
      "text/plain": [
       "array([[ 2.49581736,  2.81751463,  3.38079756,  3.12205003,  4.82817398],\n",
       "       [ 0.96989198,  4.17240608,  3.04392853,  3.12932895,  3.50822498],\n",
       "       [ 0.41526338,  1.15239939,  4.80332144,  2.61000581,  4.39885906],\n",
       "       ...,\n",
       "       [ 1.91105557,  4.27052782,  1.79384751,  2.14522845,  2.77435316],\n",
       "       [ 2.66811082,  0.83423452,  6.21860356,  3.12332292,  2.11058187],\n",
       "       [ 3.71763087,  7.20168667,  5.04520478, -0.24641549,  4.33226923]])"
      ]
     },
     "execution_count": 61,
     "metadata": {},
     "output_type": "execute_result"
    }
   ],
   "source": [
    "poptarts"
   ]
  },
  {
   "cell_type": "code",
   "execution_count": 62,
   "id": "a53cee76",
   "metadata": {},
   "outputs": [],
   "source": [
    "sum_of_poptarts = poptarts.sum(axis=1)"
   ]
  },
  {
   "cell_type": "code",
   "execution_count": 63,
   "id": "ca5ebb02",
   "metadata": {},
   "outputs": [
    {
     "data": {
      "text/plain": [
       "0.274831"
      ]
     },
     "execution_count": 63,
     "metadata": {},
     "output_type": "execute_result"
    }
   ],
   "source": [
    "(sum_of_poptarts > 17).mean()"
   ]
  },
  {
   "cell_type": "code",
   "execution_count": null,
   "id": "968123c0",
   "metadata": {},
   "outputs": [],
   "source": [
    "#Compare Heights\n",
    "\n",
    "#Men have an average height of 178 cm and standard deviation of 8cm.\n",
    "#Women have a mean of 170, sd = 6cm.\n",
    "#Since you have means and standard deviations, you can use np.random.normal to generate observations.\n",
    "#If a man and woman are chosen at random, P(woman taller than man)?"
   ]
  },
  {
   "cell_type": "code",
   "execution_count": 65,
   "id": "9495b6f5",
   "metadata": {},
   "outputs": [
    {
     "data": {
      "text/plain": [
       "0.2087"
      ]
     },
     "execution_count": 65,
     "metadata": {},
     "output_type": "execute_result"
    }
   ],
   "source": [
    "man = np.random.normal(loc = 178, scale = 8, size = (10_000, 1))\n",
    "woman = np.random.normal(loc = 170, scale = 6, size = (10_000, 1))\n",
    "\n",
    "(man< woman).mean()"
   ]
  },
  {
   "cell_type": "code",
   "execution_count": 66,
   "id": "e3b0786d",
   "metadata": {},
   "outputs": [
    {
     "data": {
      "text/plain": [
       "(array([[179.56940952],\n",
       "        [163.03814318],\n",
       "        [181.10838453],\n",
       "        [167.97724459],\n",
       "        [167.17522415]]),\n",
       " array([[162.04779635],\n",
       "        [179.82279756],\n",
       "        [173.98033232],\n",
       "        [177.32577623],\n",
       "        [172.88452361]]))"
      ]
     },
     "execution_count": 66,
     "metadata": {},
     "output_type": "execute_result"
    }
   ],
   "source": [
    "man[0:5],woman[0:5]"
   ]
  },
  {
   "cell_type": "code",
   "execution_count": null,
   "id": "5ef2f4f7",
   "metadata": {},
   "outputs": [],
   "source": [
    "#When installing anaconda on a student's computer, there's a 1 in 250 chance that the download is corrupted \n",
    "#and the installation fails. What are the odds that after having 50 students download anaconda, no one has an \n",
    "#installation issue? 100 students?\n",
    "#What is the probability that we observe an installation issue within the first 150 students that download anaconda?\n",
    "#How likely is it that 450 students all download anaconda without an issue?"
   ]
  },
  {
   "cell_type": "code",
   "execution_count": null,
   "id": "927ae323",
   "metadata": {},
   "outputs": [],
   "source": [
    "#outcomes = [\"good\", \"failed\"]"
   ]
  },
  {
   "cell_type": "code",
   "execution_count": 72,
   "id": "1ed392fb",
   "metadata": {},
   "outputs": [],
   "source": [
    "outcomes = [0, 1]\n",
    "chances_50 = np.random.choice(outcomes, size=(10_000, 50), p=[0.996, 0.004])\n",
    "\n"
   ]
  },
  {
   "cell_type": "code",
   "execution_count": 73,
   "id": "75540a0c",
   "metadata": {},
   "outputs": [],
   "source": [
    "sum_of_chances_50 = chances_50.sum(axis=1)"
   ]
  },
  {
   "cell_type": "code",
   "execution_count": 74,
   "id": "de43543e",
   "metadata": {},
   "outputs": [
    {
     "data": {
      "text/plain": [
       "0.8135"
      ]
     },
     "execution_count": 74,
     "metadata": {},
     "output_type": "execute_result"
    }
   ],
   "source": [
    "(sum_of_chances_50 ==0).mean()"
   ]
  },
  {
   "cell_type": "code",
   "execution_count": 75,
   "id": "da992cd9",
   "metadata": {},
   "outputs": [],
   "source": [
    "outcomes = [0, 1]\n",
    "chances_100 = np.random.choice(outcomes, size=(10_000, 100), p=[0.996, 0.004])"
   ]
  },
  {
   "cell_type": "code",
   "execution_count": 76,
   "id": "2de9cbab",
   "metadata": {},
   "outputs": [],
   "source": [
    "sum_of_chances_100 = chances_100.sum(axis=1)"
   ]
  },
  {
   "cell_type": "code",
   "execution_count": 77,
   "id": "02df3f93",
   "metadata": {},
   "outputs": [
    {
     "data": {
      "text/plain": [
       "0.6736"
      ]
     },
     "execution_count": 77,
     "metadata": {},
     "output_type": "execute_result"
    }
   ],
   "source": [
    "(sum_of_chances_100 ==0).mean()"
   ]
  },
  {
   "cell_type": "code",
   "execution_count": 79,
   "id": "33252adb",
   "metadata": {},
   "outputs": [
    {
     "data": {
      "text/plain": [
       "0.5504"
      ]
     },
     "execution_count": 79,
     "metadata": {},
     "output_type": "execute_result"
    }
   ],
   "source": [
    "outcomes = [0, 1]\n",
    "chances_150 = np.random.choice(outcomes, size=(10_000, 150), p=[0.996, 0.004])\n",
    "sum_of_chances_150 = chances_150.sum(axis=1)\n",
    "(sum_of_chances_150 ==0).mean()"
   ]
  },
  {
   "cell_type": "code",
   "execution_count": 80,
   "id": "04d741a2",
   "metadata": {},
   "outputs": [
    {
     "data": {
      "text/plain": [
       "0.1615"
      ]
     },
     "execution_count": 80,
     "metadata": {},
     "output_type": "execute_result"
    }
   ],
   "source": [
    "outcomes = [0, 1]\n",
    "chances_450 = np.random.choice(outcomes, size=(10_000, 450), p=[0.996, 0.004])\n",
    "sum_of_chances_450 = chances_450.sum(axis=1)\n",
    "(sum_of_chances_450 ==0).mean()"
   ]
  },
  {
   "cell_type": "code",
   "execution_count": null,
   "id": "3be13152",
   "metadata": {},
   "outputs": [],
   "source": [
    "#There's a 70% chance on any given day that there will be at least one food truck at Travis Park. \n",
    "#However, you haven't seen a food truck there in 3 days. How unlikely is this?\n",
    "\n",
    "#How likely is it that a food truck will show up sometime this week?\n",
    "\n"
   ]
  },
  {
   "cell_type": "code",
   "execution_count": 99,
   "id": "0d166f5d",
   "metadata": {},
   "outputs": [],
   "source": [
    "outcomes = [0, 1]\n",
    "foodtruck = np.random.choice(outcomes, size=(10_000, 7), p=[.7, .3])\n",
    "sum_of_foodtruck = foodtruck.sum(axis=1)\n"
   ]
  },
  {
   "cell_type": "code",
   "execution_count": 101,
   "id": "abc15494",
   "metadata": {},
   "outputs": [
    {
     "data": {
      "text/plain": [
       "0.083"
      ]
     },
     "execution_count": 101,
     "metadata": {},
     "output_type": "execute_result"
    }
   ],
   "source": [
    "(sum_of_foodtruck ==0).mean()"
   ]
  },
  {
   "cell_type": "code",
   "execution_count": 103,
   "id": "ae5b5287",
   "metadata": {},
   "outputs": [],
   "source": [
    "outcomes = [0, 1]\n",
    "foodtruck = np.random.choice(outcomes, size=(10_000, 3), p=[.7, .3])\n",
    "sum_of_foodtruck = foodtruck.sum(axis=1)"
   ]
  },
  {
   "cell_type": "code",
   "execution_count": 104,
   "id": "24af06b2",
   "metadata": {},
   "outputs": [
    {
     "data": {
      "text/plain": [
       "0.3453"
      ]
     },
     "execution_count": 104,
     "metadata": {},
     "output_type": "execute_result"
    }
   ],
   "source": [
    "(sum_of_foodtruck ==0).mean()"
   ]
  },
  {
   "cell_type": "code",
   "execution_count": 105,
   "id": "bac389ab",
   "metadata": {},
   "outputs": [],
   "source": [
    "outcomes = [0, 1]\n",
    "foodtruck = np.random.choice(outcomes, size=(10_000, 4), p=[.7, .3])\n",
    "sum_of_foodtruck = foodtruck.sum(axis=1)"
   ]
  },
  {
   "cell_type": "code",
   "execution_count": 106,
   "id": "d99f1c70",
   "metadata": {},
   "outputs": [
    {
     "data": {
      "text/plain": [
       "0.2332"
      ]
     },
     "execution_count": 106,
     "metadata": {},
     "output_type": "execute_result"
    }
   ],
   "source": [
    "(sum_of_foodtruck ==0).mean()"
   ]
  },
  {
   "cell_type": "code",
   "execution_count": null,
   "id": "1c53186b",
   "metadata": {},
   "outputs": [],
   "source": [
    "#if 23 people are in the same room, what are the odds that two of them share a birthday? What if it's 20 people? 40?"
   ]
  },
  {
   "cell_type": "code",
   "execution_count": 108,
   "id": "9a9d460e",
   "metadata": {},
   "outputs": [],
   "source": [
    "n_simulations = 1_000_000\n",
    "n_trials = 23\n",
    "same_birthday = np.random.randint(low = 1,high = 366 , size=(n_simulations,n_trials),dtype = int)"
   ]
  },
  {
   "cell_type": "code",
   "execution_count": 109,
   "id": "6916db3c",
   "metadata": {},
   "outputs": [],
   "source": [
    "same_bday = pd.DataFrame(same_birthday)"
   ]
  },
  {
   "cell_type": "code",
   "execution_count": null,
   "id": "3978cbb1",
   "metadata": {},
   "outputs": [],
   "source": [
    "no_one_shares_bday = birthdays.apply(lambda row: row.is_unique , axis=1)"
   ]
  }
 ],
 "metadata": {
  "kernelspec": {
   "display_name": "Python 3",
   "language": "python",
   "name": "python3"
  },
  "language_info": {
   "codemirror_mode": {
    "name": "ipython",
    "version": 3
   },
   "file_extension": ".py",
   "mimetype": "text/x-python",
   "name": "python",
   "nbconvert_exporter": "python",
   "pygments_lexer": "ipython3",
   "version": "3.8.8"
  }
 },
 "nbformat": 4,
 "nbformat_minor": 5
}
