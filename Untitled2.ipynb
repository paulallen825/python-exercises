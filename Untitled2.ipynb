{
 "cells": [
  {
   "cell_type": "code",
   "execution_count": 13,
   "id": "5b855d52",
   "metadata": {},
   "outputs": [
    {
     "data": {
      "text/plain": [
       "True"
      ]
     },
     "execution_count": 13,
     "metadata": {},
     "output_type": "execute_result"
    }
   ],
   "source": [
    "def is_two(n):\n",
    "    result = n\n",
    "    if result == 2:\n",
    "        return True\n",
    "    elif result == '2':\n",
    "        return True\n",
    "    else: \n",
    "        return False\n",
    "     \n",
    "is_two(2)\n"
   ]
  },
  {
   "cell_type": "code",
   "execution_count": 16,
   "id": "1653b03a",
   "metadata": {},
   "outputs": [
    {
     "data": {
      "text/plain": [
       "False"
      ]
     },
     "execution_count": 16,
     "metadata": {},
     "output_type": "execute_result"
    }
   ],
   "source": [
    "def is_vowel(n):\n",
    "    vowel = n\n",
    "    if vowel in (\"a\",\"e\",\"i\",\"o\",\"u\"):\n",
    "        return True\n",
    "\n",
    "    else:\n",
    "        return False\n",
    "is_vowel('b')"
   ]
  },
  {
   "cell_type": "code",
   "execution_count": 21,
   "id": "8cb45614",
   "metadata": {},
   "outputs": [
    {
     "data": {
      "text/plain": [
       "True"
      ]
     },
     "execution_count": 21,
     "metadata": {},
     "output_type": "execute_result"
    }
   ],
   "source": [
    "def is_consonant(n):\n",
    "    consonant = n\n",
    "    if is_vowel(consonant)==True:\n",
    "        return False\n",
    "    else:\n",
    "        return True\n",
    "is_consonant('b')\n",
    "    "
   ]
  },
  {
   "cell_type": "code",
   "execution_count": 29,
   "id": "d8b3e0ca",
   "metadata": {},
   "outputs": [
    {
     "name": "stdout",
     "output_type": "stream",
     "text": [
      "h\n",
      "Hello\n"
     ]
    }
   ],
   "source": [
    "def cap_consonant(n):\n",
    "    word = n\n",
    "    first_char=word[0]\n",
    "    print(first_char)\n",
    "    if is_consonant(first_char)== True:\n",
    "        new_word=word[0].upper()+word[1:]\n",
    "        print(new_word)\n",
    "        \n",
    "    \n",
    "cap_consonant('hello')\n",
    "    \n",
    "    "
   ]
  },
  {
   "cell_type": "code",
   "execution_count": null,
   "id": "2153d7a7",
   "metadata": {},
   "outputs": [],
   "source": []
  }
 ],
 "metadata": {
  "kernelspec": {
   "display_name": "Python 3",
   "language": "python",
   "name": "python3"
  },
  "language_info": {
   "codemirror_mode": {
    "name": "ipython",
    "version": 3
   },
   "file_extension": ".py",
   "mimetype": "text/x-python",
   "name": "python",
   "nbconvert_exporter": "python",
   "pygments_lexer": "ipython3",
   "version": "3.8.8"
  }
 },
 "nbformat": 4,
 "nbformat_minor": 5
}
