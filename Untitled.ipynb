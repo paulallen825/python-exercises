{
 "cells": [
  {
   "cell_type": "markdown",
   "id": "b2494fe3",
   "metadata": {},
   "source": [
    "num_movies_rented = 3\n",
    "num_days_rented = 9\n",
    "rental_price = 3\n",
    "p_p_d = (num_movies_rented * rental_price)\n",
    "total_price = p_p_d * num_days_rented\n",
    "total_price"
   ]
  },
  {
   "cell_type": "markdown",
   "id": "ccac2ab5",
   "metadata": {},
   "source": [
    "Google = 400\n",
    "Amazon = 380\n",
    "Facebook = 350\n",
    "\n",
    "pay = (Google * 6 + Amazon * 4 + Facebook*10)\n",
    "pay\n"
   ]
  },
  {
   "cell_type": "markdown",
   "id": "8fa93b76",
   "metadata": {},
   "source": [
    "A student can be enrolled to a class only if the class is not full and the class schedule does not conflict with her current schedule."
   ]
  },
  {
   "cell_type": "markdown",
   "id": "2c832130",
   "metadata": {},
   "source": [
    "class_is_full == true\n"
   ]
  },
  {
   "cell_type": "markdown",
   "id": "ed316048",
   "metadata": {},
   "source": [
    "Create a variable that holds a boolean value for each of the following conditions:\n",
    "\n",
    "the password must be at least 5 characters\n",
    "the username must be no more than 20 characters\n",
    "the password must not be the same as the username\n",
    "bonus neither the username or password can start or end with whitespace\n",
    "username = 'codeup'\n",
    "password = 'notastrongpassword'"
   ]
  },
  {
   "cell_type": "code",
   "execution_count": 27,
   "id": "398105e1",
   "metadata": {},
   "outputs": [
    {
     "data": {
      "text/plain": [
       "False"
      ]
     },
     "execution_count": 27,
     "metadata": {},
     "output_type": "execute_result"
    }
   ],
   "source": [
    "username = 'codeup'\n",
    "password = 'notastrongpassword'\n",
    "\n",
    "pw_check = ( len(password)>=5 and\n",
    "len(username)<=20 and\n",
    "password != username )\n",
    "\n",
    "username_has_spaces = username != username.strip()\n",
    "\n",
    "usernae\n",
    "pw_check\n",
    "\n",
    "\n",
    "\n",
    "\n",
    "\n"
   ]
  },
  {
   "cell_type": "code",
   "execution_count": 28,
   "id": "f674a068",
   "metadata": {},
   "outputs": [
    {
     "name": "stdout",
     "output_type": "stream",
     "text": [
      "I like coffee!\n"
     ]
    }
   ],
   "source": [
    "i_like_coffee = True\n",
    "\n",
    "if i_like_coffee:\n",
    "    print('I like coffee!')"
   ]
  },
  {
   "cell_type": "code",
   "execution_count": 29,
   "id": "a6c124fd",
   "metadata": {},
   "outputs": [
    {
     "name": "stdout",
     "output_type": "stream",
     "text": [
      "a\n",
      "b\n",
      "c\n",
      "d\n",
      "e\n"
     ]
    }
   ],
   "source": [
    "for number in 'abcde':\n",
    "    print (number)"
   ]
  },
  {
   "cell_type": "code",
   "execution_count": null,
   "id": "6e26638b",
   "metadata": {},
   "outputs": [],
   "source": []
  }
 ],
 "metadata": {
  "kernelspec": {
   "display_name": "Python 3",
   "language": "python",
   "name": "python3"
  },
  "language_info": {
   "codemirror_mode": {
    "name": "ipython",
    "version": 3
   },
   "file_extension": ".py",
   "mimetype": "text/x-python",
   "name": "python",
   "nbconvert_exporter": "python",
   "pygments_lexer": "ipython3",
   "version": "3.8.8"
  }
 },
 "nbformat": 4,
 "nbformat_minor": 5
}
