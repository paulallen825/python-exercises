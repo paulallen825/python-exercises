{
 "cells": [
  {
   "cell_type": "code",
   "execution_count": 99,
   "id": "bb2f726d",
   "metadata": {},
   "outputs": [],
   "source": [
    "import matplotlib.pyplot as plt\n",
    "import numpy as np\n",
    "from scipy import stats\n",
    "import seaborn as sns\n",
    "import pandas as pd"
   ]
  },
  {
   "cell_type": "code",
   "execution_count": null,
   "id": "73d0862b",
   "metadata": {},
   "outputs": [],
   "source": [
    "#A bank found that the average number of cars waiting during the noon hour at a drive-up \n",
    "#window follows a Poisson distribution with a mean of 2 cars. Make a chart \n",
    "#of this distribution and answer these questions concerning the probability of cars waiting \n",
    "#at the drive-up window.\n",
    "\n",
    "#What is the probability that no cars drive up in the noon hour?\n",
    "#What is the probability that 3 or more cars come through the drive through?\n",
    "#How likely is it that the drive through gets at least 1 car?"
   ]
  },
  {
   "cell_type": "code",
   "execution_count": 18,
   "id": "bb71cc93",
   "metadata": {},
   "outputs": [
    {
     "data": {
      "text/plain": [
       "[Text(0.5, 0, 'Poisson Distribution'), Text(0, 0.5, 'Frequency')]"
      ]
     },
     "execution_count": 18,
     "metadata": {},
     "output_type": "execute_result"
    },
    {
     "data": {
      "image/png": "[encoded data removed]",
      "text/plain": [
       "<Figure size 432x288 with 1 Axes>"
      ]
     },
     "metadata": {
      "needs_background": "light"
     },
     "output_type": "display_data"
    }
   ],
   "source": [
    "data_poisson = poisson.rvs(mu=2, size=100)\n",
    "ax = sns.histplot(data_poisson,\n",
    "                  bins=30,\n",
    "                  kde=False,\n",
    "                  color='skyblue')\n",
    "ax.set(xlabel='Poisson Distribution', ylabel='Frequency')"
   ]
  },
  {
   "cell_type": "code",
   "execution_count": 124,
   "id": "08b2ba38",
   "metadata": {},
   "outputs": [
    {
     "data": {
      "text/plain": [
       "0.1353352832366127"
      ]
     },
     "execution_count": 124,
     "metadata": {},
     "output_type": "execute_result"
    }
   ],
   "source": [
    "stats.poisson(2).pmf(0)\n"
   ]
  },
  {
   "cell_type": "code",
   "execution_count": 20,
   "id": "406d0b69",
   "metadata": {},
   "outputs": [
    {
     "data": {
      "text/plain": [
       "0.32332358381693654"
      ]
     },
     "execution_count": 20,
     "metadata": {},
     "output_type": "execute_result"
    }
   ],
   "source": [
    "stats.poisson(2).sf(2)"
   ]
  },
  {
   "cell_type": "code",
   "execution_count": 126,
   "id": "0da37ab4",
   "metadata": {},
   "outputs": [
    {
     "data": {
      "text/plain": [
       "0.8646647167633873"
      ]
     },
     "execution_count": 126,
     "metadata": {},
     "output_type": "execute_result"
    }
   ],
   "source": [
    "stats.poisson(2).sf(0)"
   ]
  },
  {
   "cell_type": "code",
   "execution_count": null,
   "id": "15eabf39",
   "metadata": {},
   "outputs": [],
   "source": [
    "#Grades of State University graduates are normally distributed with a mean of 3.0 and a \n",
    "#standard deviation of .3. Calculate the following:\n",
    "\n",
    "#What grade point average is required to be in the top 5% of the graduating class?\n",
    "#What GPA constitutes the bottom 15% of the class?\n",
    "#An eccentric alumnus left scholarship money for students in the third \n",
    "#decile from the bottom of their class. Determine the range of the third decile. \n",
    "#Would a student with a 2.8 grade point average qualify for this scholarship?\n",
    "#If I have a GPA of 3.5, what percentile am I in?"
   ]
  },
  {
   "cell_type": "code",
   "execution_count": 30,
   "id": "0148e403",
   "metadata": {},
   "outputs": [
    {
     "data": {
      "text/plain": [
       "1.0494515075362604e-21"
      ]
     },
     "execution_count": 30,
     "metadata": {},
     "output_type": "execute_result"
    }
   ],
   "source": [
    "m = 3\n",
    "sd=.3\n",
    "\n",
    "grades = stats.norm(m,sd)\n",
    "\n"
   ]
  },
  {
   "cell_type": "code",
   "execution_count": 36,
   "id": "8d3a3637",
   "metadata": {},
   "outputs": [
    {
     "data": {
      "text/plain": [
       "3.4934560880854417"
      ]
     },
     "execution_count": 36,
     "metadata": {},
     "output_type": "execute_result"
    }
   ],
   "source": [
    "top_5_percent = grades.ppf(.95)\n",
    "top_5_percent"
   ]
  },
  {
   "cell_type": "code",
   "execution_count": null,
   "id": "beea3cb3",
   "metadata": {},
   "outputs": [],
   "source": [
    "#grades.quantile(.95).values"
   ]
  },
  {
   "cell_type": "code",
   "execution_count": 39,
   "id": "1ed60f1a",
   "metadata": {},
   "outputs": [
    {
     "data": {
      "text/plain": [
       "2.689069983151863"
      ]
     },
     "execution_count": 39,
     "metadata": {},
     "output_type": "execute_result"
    }
   ],
   "source": [
    "bottom_15_percent = grades.ppf(.15)\n",
    "\n",
    "bottom_15_percent"
   ]
  },
  {
   "cell_type": "code",
   "execution_count": 41,
   "id": "1921a204",
   "metadata": {},
   "outputs": [
    {
     "data": {
      "text/plain": [
       "2.842679846187588"
      ]
     },
     "execution_count": 41,
     "metadata": {},
     "output_type": "execute_result"
    }
   ],
   "source": [
    "bottom_30_percent = grades.ppf(.30)\n",
    "bottom_30_percent"
   ]
  },
  {
   "cell_type": "code",
   "execution_count": 44,
   "id": "b79315a8",
   "metadata": {},
   "outputs": [
    {
     "data": {
      "text/plain": [
       "2.7475136299281258"
      ]
     },
     "execution_count": 44,
     "metadata": {},
     "output_type": "execute_result"
    }
   ],
   "source": [
    "bottom_20_percent = grades.ppf(.20)\n",
    "bottom_20_percent"
   ]
  },
  {
   "cell_type": "code",
   "execution_count": 127,
   "id": "82c19876",
   "metadata": {},
   "outputs": [
    {
     "data": {
      "text/plain": [
       "0.9522096477271853"
      ]
     },
     "execution_count": 127,
     "metadata": {},
     "output_type": "execute_result"
    }
   ],
   "source": [
    "grades.cdf(3.5)"
   ]
  },
  {
   "cell_type": "code",
   "execution_count": null,
   "id": "bb064b2e",
   "metadata": {},
   "outputs": [],
   "source": [
    "#A marketing website has an average click-through rate of 2%. \n",
    "#One day they observe 4326 visitors and 97 click-throughs. \n",
    "#How likely is it that this many people or more click through?"
   ]
  },
  {
   "cell_type": "code",
   "execution_count": null,
   "id": "5a2d35d1",
   "metadata": {},
   "outputs": [],
   "source": [
    "ctr= .02\n",
    "visitors = 4326\n",
    "ct = 97\n"
   ]
  },
  {
   "cell_type": "code",
   "execution_count": 128,
   "id": "2b481ba1",
   "metadata": {},
   "outputs": [
    {
     "data": {
      "text/plain": [
       "0.1397582363130086"
      ]
     },
     "execution_count": 128,
     "metadata": {},
     "output_type": "execute_result"
    }
   ],
   "source": [
    "stats.binom(4326, .02).sf(96)"
   ]
  },
  {
   "cell_type": "code",
   "execution_count": null,
   "id": "d8bb54c5",
   "metadata": {},
   "outputs": [],
   "source": [
    "#You are working on some statistics homework consisting of 100 questions where all of the \n",
    "#answers are a probability rounded to the hundreths place. \n",
    "#Looking to save time, you put down random probabilities as the answer to each question.\n",
    "\n",
    "#What is the probability that at least one of your first 60 answers is correct?"
   ]
  },
  {
   "cell_type": "code",
   "execution_count": 129,
   "id": "65bcf34a",
   "metadata": {},
   "outputs": [
    {
     "data": {
      "text/plain": [
       "0.4528433576092388"
      ]
     },
     "execution_count": 129,
     "metadata": {},
     "output_type": "execute_result"
    }
   ],
   "source": [
    "#stats.binom(60, 1/101).sf(0)\n",
    "prob_success = .01\n",
    "n_trials = 60\n",
    "desired_success = 1\n",
    "\n",
    "stats.binom(n_trials, prob_success).sf(desired_success -1)"
   ]
  },
  {
   "cell_type": "code",
   "execution_count": null,
   "id": "19312c26",
   "metadata": {},
   "outputs": [],
   "source": [
    "#The codeup staff tends to get upset when the student break area is not cleaned up. \n",
    "#Suppose that there's a 3% chance that any one student cleans the break area when they visit it,\n",
    "#and, on any given day, about 90% of the 3 active cohorts of 22 students visit the break area. \n",
    "#How likely is it that the break area gets cleaned up each day?\n",
    "#How likely is it that it goes two days without getting cleaned up? All week?"
   ]
  },
  {
   "cell_type": "code",
   "execution_count": 58,
   "id": "73f5f529",
   "metadata": {},
   "outputs": [
    {
     "data": {
      "text/plain": [
       "0.5317140258060139"
      ]
     },
     "execution_count": 58,
     "metadata": {},
     "output_type": "execute_result"
    }
   ],
   "source": [
    "#3% chance any student will clean it\n",
    "#90% of 3 active cohorts of 22 students\n",
    "    #59.4 students each day\n",
    "#5 days\n",
    "\n",
    "stats.binom(59.4, .03).sf(1)"
   ]
  },
  {
   "cell_type": "code",
   "execution_count": 132,
   "id": "6c4e655b",
   "metadata": {},
   "outputs": [
    {
     "data": {
      "text/plain": [
       "0.8342199288437355"
      ]
     },
     "execution_count": 132,
     "metadata": {},
     "output_type": "execute_result"
    }
   ],
   "source": [
    "#m = 15\n",
    "#sd =3\n",
    "\n",
    "#2min each order\n",
    "#10 min to get food\n",
    "#will have 15 min left to eat\n",
    "#1hour or 60 min lunch\n",
    "\n",
    "prob_success = .03\n",
    "n_trials =(22*3)*.9\n",
    "desired_successes =1\n",
    "stats.binom(n_trials, prob_success).sf(desired_successes-1)"
   ]
  },
  {
   "cell_type": "code",
   "execution_count": 133,
   "id": "0fa89064",
   "metadata": {},
   "outputs": [
    {
     "data": {
      "text/plain": [
       "0.027483031992576113"
      ]
     },
     "execution_count": 133,
     "metadata": {},
     "output_type": "execute_result"
    }
   ],
   "source": [
    "#not cleaned for 2 days\n",
    "#the minus one is because its odds it not being cleaned\n",
    "#meaning it has an 83% chance to be cleaned and 17% chance to not be cleaned then time by 2 for 2 days\n",
    "(1-stats.binom(n_trials, prob_success).sf(desired_successes-1))**2"
   ]
  },
  {
   "cell_type": "code",
   "execution_count": 134,
   "id": "55f00c29",
   "metadata": {},
   "outputs": [
    {
     "data": {
      "text/plain": [
       "0.0001252165138809122"
      ]
     },
     "execution_count": 134,
     "metadata": {},
     "output_type": "execute_result"
    }
   ],
   "source": [
    "#five days not being cleaned\n",
    "(1-stats.binom(n_trials, prob_success).sf(desired_successes-1))**5"
   ]
  },
  {
   "cell_type": "code",
   "execution_count": 96,
   "id": "b98006cd",
   "metadata": {},
   "outputs": [
    {
     "data": {
      "text/plain": [
       "0.7475074624530771"
      ]
     },
     "execution_count": 96,
     "metadata": {},
     "output_type": "execute_result"
    }
   ],
   "source": [
    "food = stats.norm(m,sd).cdf(17)\n",
    "food\n",
    "\n"
   ]
  },
  {
   "cell_type": "code",
   "execution_count": null,
   "id": "7467c23d",
   "metadata": {},
   "outputs": [],
   "source": [
    "mean_customers_in_line =15\n",
    "sd_customers_in_line = 3\n",
    "\n",
    "time_per_order=2\n",
    "\n",
    "time_to_get_food =10\n",
    "time_to_eat_food = 15\n",
    "total_time=60"
   ]
  },
  {
   "cell_type": "code",
   "execution_count": null,
   "id": "d7a5e7c1",
   "metadata": {},
   "outputs": [],
   "source": [
    "max_time_in_line = total_time - time_to_get_food- time_to_eat_food"
   ]
  },
  {
   "cell_type": "code",
   "execution_count": null,
   "id": "4c8f7305",
   "metadata": {},
   "outputs": [],
   "source": [
    "max_customers_in_line = "
   ]
  },
  {
   "cell_type": "code",
   "execution_count": 97,
   "id": "7524ba6c",
   "metadata": {},
   "outputs": [],
   "source": [
    "from env import host, user, password\n",
    "\n",
    "url = f'mysql+pymysql://{user}:{password}@{host}/employees'"
   ]
  },
  {
   "cell_type": "code",
   "execution_count": 100,
   "id": "7df2f03e",
   "metadata": {},
   "outputs": [],
   "source": [
    "employees =pd.read_sql('Select * FROM employees LIMIT 5 OFFSET 50', url)"
   ]
  },
  {
   "cell_type": "code",
   "execution_count": 101,
   "id": "ce5a191c",
   "metadata": {},
   "outputs": [
    {
     "data": {
      "text/html": [
       "<div>\n",
       "<style scoped>\n",
       "    .dataframe tbody tr th:only-of-type {\n",
       "        vertical-align: middle;\n",
       "    }\n",
       "\n",
       "    .dataframe tbody tr th {\n",
       "        vertical-align: top;\n",
       "    }\n",
       "\n",
       "    .dataframe thead th {\n",
       "        text-align: right;\n",
       "    }\n",
       "</style>\n",
       "<table border=\"1\" class=\"dataframe\">\n",
       "  <thead>\n",
       "    <tr style=\"text-align: right;\">\n",
       "      <th></th>\n",
       "      <th>emp_no</th>\n",
       "      <th>birth_date</th>\n",
       "      <th>first_name</th>\n",
       "      <th>last_name</th>\n",
       "      <th>gender</th>\n",
       "      <th>hire_date</th>\n",
       "    </tr>\n",
       "  </thead>\n",
       "  <tbody>\n",
       "    <tr>\n",
       "      <th>0</th>\n",
       "      <td>10051</td>\n",
       "      <td>1953-07-28</td>\n",
       "      <td>Hidefumi</td>\n",
       "      <td>Caine</td>\n",
       "      <td>M</td>\n",
       "      <td>1992-10-15</td>\n",
       "    </tr>\n",
       "    <tr>\n",
       "      <th>1</th>\n",
       "      <td>10052</td>\n",
       "      <td>1961-02-26</td>\n",
       "      <td>Heping</td>\n",
       "      <td>Nitsch</td>\n",
       "      <td>M</td>\n",
       "      <td>1988-05-21</td>\n",
       "    </tr>\n",
       "    <tr>\n",
       "      <th>2</th>\n",
       "      <td>10053</td>\n",
       "      <td>1954-09-13</td>\n",
       "      <td>Sanjiv</td>\n",
       "      <td>Zschoche</td>\n",
       "      <td>F</td>\n",
       "      <td>1986-02-04</td>\n",
       "    </tr>\n",
       "    <tr>\n",
       "      <th>3</th>\n",
       "      <td>10054</td>\n",
       "      <td>1957-04-04</td>\n",
       "      <td>Mayumi</td>\n",
       "      <td>Schueller</td>\n",
       "      <td>M</td>\n",
       "      <td>1995-03-13</td>\n",
       "    </tr>\n",
       "    <tr>\n",
       "      <th>4</th>\n",
       "      <td>10055</td>\n",
       "      <td>1956-06-06</td>\n",
       "      <td>Georgy</td>\n",
       "      <td>Dredge</td>\n",
       "      <td>M</td>\n",
       "      <td>1992-04-27</td>\n",
       "    </tr>\n",
       "  </tbody>\n",
       "</table>\n",
       "</div>"
      ],
      "text/plain": [
       "   emp_no  birth_date first_name  last_name gender   hire_date\n",
       "0   10051  1953-07-28   Hidefumi      Caine      M  1992-10-15\n",
       "1   10052  1961-02-26     Heping     Nitsch      M  1988-05-21\n",
       "2   10053  1954-09-13     Sanjiv   Zschoche      F  1986-02-04\n",
       "3   10054  1957-04-04     Mayumi  Schueller      M  1995-03-13\n",
       "4   10055  1956-06-06     Georgy     Dredge      M  1992-04-27"
      ]
     },
     "execution_count": 101,
     "metadata": {},
     "output_type": "execute_result"
    }
   ],
   "source": [
    "employees"
   ]
  },
  {
   "cell_type": "code",
   "execution_count": 105,
   "id": "33f0eae5",
   "metadata": {},
   "outputs": [],
   "source": [
    "salaries =pd.read_sql(\"Select * FROM salaries LIMIT 5 OFFSET 50\", url)"
   ]
  },
  {
   "cell_type": "code",
   "execution_count": 106,
   "id": "e538c5b4",
   "metadata": {},
   "outputs": [
    {
     "data": {
      "text/html": [
       "<div>\n",
       "<style scoped>\n",
       "    .dataframe tbody tr th:only-of-type {\n",
       "        vertical-align: middle;\n",
       "    }\n",
       "\n",
       "    .dataframe tbody tr th {\n",
       "        vertical-align: top;\n",
       "    }\n",
       "\n",
       "    .dataframe thead th {\n",
       "        text-align: right;\n",
       "    }\n",
       "</style>\n",
       "<table border=\"1\" class=\"dataframe\">\n",
       "  <thead>\n",
       "    <tr style=\"text-align: right;\">\n",
       "      <th></th>\n",
       "      <th>emp_no</th>\n",
       "      <th>salary</th>\n",
       "      <th>from_date</th>\n",
       "      <th>to_date</th>\n",
       "    </tr>\n",
       "  </thead>\n",
       "  <tbody>\n",
       "    <tr>\n",
       "      <th>0</th>\n",
       "      <td>10005</td>\n",
       "      <td>85076</td>\n",
       "      <td>1993-09-11</td>\n",
       "      <td>1994-09-11</td>\n",
       "    </tr>\n",
       "    <tr>\n",
       "      <th>1</th>\n",
       "      <td>10005</td>\n",
       "      <td>86050</td>\n",
       "      <td>1994-09-11</td>\n",
       "      <td>1995-09-11</td>\n",
       "    </tr>\n",
       "    <tr>\n",
       "      <th>2</th>\n",
       "      <td>10005</td>\n",
       "      <td>88448</td>\n",
       "      <td>1995-09-11</td>\n",
       "      <td>1996-09-10</td>\n",
       "    </tr>\n",
       "    <tr>\n",
       "      <th>3</th>\n",
       "      <td>10005</td>\n",
       "      <td>88063</td>\n",
       "      <td>1996-09-10</td>\n",
       "      <td>1997-09-10</td>\n",
       "    </tr>\n",
       "    <tr>\n",
       "      <th>4</th>\n",
       "      <td>10005</td>\n",
       "      <td>89724</td>\n",
       "      <td>1997-09-10</td>\n",
       "      <td>1998-09-10</td>\n",
       "    </tr>\n",
       "  </tbody>\n",
       "</table>\n",
       "</div>"
      ],
      "text/plain": [
       "   emp_no  salary   from_date     to_date\n",
       "0   10005   85076  1993-09-11  1994-09-11\n",
       "1   10005   86050  1994-09-11  1995-09-11\n",
       "2   10005   88448  1995-09-11  1996-09-10\n",
       "3   10005   88063  1996-09-10  1997-09-10\n",
       "4   10005   89724  1997-09-10  1998-09-10"
      ]
     },
     "execution_count": 106,
     "metadata": {},
     "output_type": "execute_result"
    }
   ],
   "source": [
    "salaries"
   ]
  },
  {
   "cell_type": "code",
   "execution_count": 110,
   "id": "a63c5993",
   "metadata": {},
   "outputs": [
    {
     "data": {
      "text/plain": [
       "87472.2"
      ]
     },
     "execution_count": 110,
     "metadata": {},
     "output_type": "execute_result"
    }
   ],
   "source": [
    "salaries.salary.mean()"
   ]
  },
  {
   "cell_type": "code",
   "execution_count": 111,
   "id": "706a2e92",
   "metadata": {},
   "outputs": [
    {
     "data": {
      "text/plain": [
       "1879.9109553380447"
      ]
     },
     "execution_count": 111,
     "metadata": {},
     "output_type": "execute_result"
    }
   ],
   "source": [
    "salaries.salary.std()"
   ]
  },
  {
   "cell_type": "code",
   "execution_count": 113,
   "id": "eee06c88",
   "metadata": {},
   "outputs": [
    {
     "data": {
      "text/plain": [
       "1.1643423534456752e-48"
      ]
     },
     "execution_count": 113,
     "metadata": {},
     "output_type": "execute_result"
    }
   ],
   "source": [
    "p = stats.norm(87472, 1880).cdf(60000)\n",
    "p"
   ]
  },
  {
   "cell_type": "code",
   "execution_count": 135,
   "id": "1a7d155a",
   "metadata": {},
   "outputs": [
    {
     "data": {
      "text/plain": [
       "3.110657255122968e-05"
      ]
     },
     "execution_count": 135,
     "metadata": {},
     "output_type": "execute_result"
    }
   ],
   "source": [
    "q = stats.norm(87472, 1880).sf(95000)\n",
    "q"
   ]
  },
  {
   "cell_type": "code",
   "execution_count": 121,
   "id": "19292d71",
   "metadata": {},
   "outputs": [
    {
     "data": {
      "text/plain": [
       "1.0"
      ]
     },
     "execution_count": 121,
     "metadata": {},
     "output_type": "execute_result"
    }
   ],
   "source": [
    "r = stats.norm(87472, 1880).sf(65000)\n",
    "r"
   ]
  },
  {
   "cell_type": "code",
   "execution_count": 122,
   "id": "0e22c4bc",
   "metadata": {},
   "outputs": [
    {
     "data": {
      "text/plain": [
       "3.5268359702836597e-05"
      ]
     },
     "execution_count": 122,
     "metadata": {},
     "output_type": "execute_result"
    }
   ],
   "source": [
    "s = stats.norm(87472, 1880).cdf(80000)\n",
    "s"
   ]
  },
  {
   "cell_type": "code",
   "execution_count": 117,
   "id": "907a92bf",
   "metadata": {},
   "outputs": [
    {
     "data": {
      "text/plain": [
       "90564.32481866877"
      ]
     },
     "execution_count": 117,
     "metadata": {},
     "output_type": "execute_result"
    }
   ],
   "source": [
    "t = stats.norm(87472, 1880).ppf(.95)\n",
    "t"
   ]
  },
  {
   "cell_type": "code",
   "execution_count": null,
   "id": "8d6943dd",
   "metadata": {},
   "outputs": [],
   "source": []
  }
 ],
 "metadata": {
  "kernelspec": {
   "display_name": "Python 3",
   "language": "python",
   "name": "python3"
  },
  "language_info": {
   "codemirror_mode": {
    "name": "ipython",
    "version": 3
   },
   "file_extension": ".py",
   "mimetype": "text/x-python",
   "name": "python",
   "nbconvert_exporter": "python",
   "pygments_lexer": "ipython3",
   "version": "3.8.8"
  }
 },
 "nbformat": 4,
 "nbformat_minor": 5
}
