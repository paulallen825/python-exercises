{
 "cells": [
  {
   "cell_type": "code",
   "execution_count": 6,
   "id": "11d404a8",
   "metadata": {},
   "outputs": [],
   "source": [
    "import pandas as pd\n"
   ]
  },
  {
   "cell_type": "code",
   "execution_count": 7,
   "id": "d1b6da7c",
   "metadata": {},
   "outputs": [
    {
     "data": {
      "text/plain": [
       "0                 kiwi\n",
       "1                mango\n",
       "2           strawberry\n",
       "3            pineapple\n",
       "4           gala apple\n",
       "5     honeycrisp apple\n",
       "6               tomato\n",
       "7           watermelon\n",
       "8             honeydew\n",
       "9                 kiwi\n",
       "10                kiwi\n",
       "11                kiwi\n",
       "12               mango\n",
       "13           blueberry\n",
       "14          blackberry\n",
       "15          gooseberry\n",
       "16              papaya\n",
       "dtype: object"
      ]
     },
     "execution_count": 7,
     "metadata": {},
     "output_type": "execute_result"
    }
   ],
   "source": [
    "fruit_series = pd.Series([\"kiwi\", \"mango\", \"strawberry\", \"pineapple\", \"gala apple\", \"honeycrisp apple\", \"tomato\", \"watermelon\", \"honeydew\", \"kiwi\", \"kiwi\", \"kiwi\", \"mango\", \"blueberry\", \"blackberry\", \"gooseberry\", \"papaya\"])\n",
    "fruit_series"
   ]
  },
  {
   "cell_type": "code",
   "execution_count": null,
   "id": "9ca290ff",
   "metadata": {},
   "outputs": [],
   "source": [
    "#1. Determine the number of elements in fruits.\n",
    "fruit_series.count()\n",
    "fruits_series.size\n",
    "fruits_series.shape\n",
    "len(fruit_series)\n",
    "#fruit_series.value_counts()"
   ]
  },
  {
   "cell_type": "code",
   "execution_count": null,
   "id": "5cef699e",
   "metadata": {},
   "outputs": [],
   "source": [
    "#2. Output only the index from fruits\n",
    "fruit_series.index\n",
    "#fruit_series.index.tolist()"
   ]
  },
  {
   "cell_type": "code",
   "execution_count": null,
   "id": "b6bf8dce",
   "metadata": {},
   "outputs": [],
   "source": [
    "#3. Output only the values from fruits.\n",
    "fruit_series.values.tolist()"
   ]
  },
  {
   "cell_type": "code",
   "execution_count": null,
   "id": "751e9ea1",
   "metadata": {},
   "outputs": [],
   "source": [
    "#4. Confirm the data type of the values in fruits.\n",
    "type(fruit_series)"
   ]
  },
  {
   "cell_type": "code",
   "execution_count": null,
   "id": "81a1ee34",
   "metadata": {},
   "outputs": [],
   "source": [
    "#5 Output only the first five values from fruits. Output the last three values. Output two random values from fruits.\n",
    "fruit_series.head()\n",
    "#can use number inside to get amount\n",
    "#can use .tail() to get last\n",
    "#fruits.sample(2)"
   ]
  },
  {
   "cell_type": "code",
   "execution_count": null,
   "id": "a7df84c1",
   "metadata": {},
   "outputs": [],
   "source": [
    "#6 Run the .describe() on fruits to see what information it returns when called on a Series with string values.\n",
    "fruit_series.describe()"
   ]
  },
  {
   "cell_type": "code",
   "execution_count": null,
   "id": "3c6e03f1",
   "metadata": {},
   "outputs": [],
   "source": [
    "#7 Run the code necessary to produce only the unique string values from fruits.\n",
    "fruit_series.unique().tolist()\n",
    "\n"
   ]
  },
  {
   "cell_type": "code",
   "execution_count": 4,
   "id": "5a475b4d",
   "metadata": {},
   "outputs": [
    {
     "ename": "NameError",
     "evalue": "name 'fruit_series' is not defined",
     "output_type": "error",
     "traceback": [
      "\u001b[0;31m---------------------------------------------------------------------------\u001b[0m",
      "\u001b[0;31mNameError\u001b[0m                                 Traceback (most recent call last)",
      "\u001b[0;32m<ipython-input-4-e4a4a35640c7>\u001b[0m in \u001b[0;36m<module>\u001b[0;34m\u001b[0m\n\u001b[1;32m      2\u001b[0m \u001b[0;31m#fruit_series.value_counts()\u001b[0m\u001b[0;34m\u001b[0m\u001b[0;34m\u001b[0m\u001b[0;34m\u001b[0m\u001b[0m\n\u001b[1;32m      3\u001b[0m \u001b[0;34m\u001b[0m\u001b[0m\n\u001b[0;32m----> 4\u001b[0;31m \u001b[0mfruit_series\u001b[0m\u001b[0;34m.\u001b[0m\u001b[0mnunique\u001b[0m\u001b[0;34m(\u001b[0m\u001b[0;34m)\u001b[0m\u001b[0;34m\u001b[0m\u001b[0;34m\u001b[0m\u001b[0m\n\u001b[0m",
      "\u001b[0;31mNameError\u001b[0m: name 'fruit_series' is not defined"
     ]
    }
   ],
   "source": [
    "#8 Determine how many times each unique string value occurs in fruits.\n",
    "#fruit_series.value_counts()\n",
    "\n",
    "fruit_series.nunique()"
   ]
  },
  {
   "cell_type": "code",
   "execution_count": null,
   "id": "8fbd3380",
   "metadata": {},
   "outputs": [],
   "source": [
    "#9 Determine the string value that occurs most frequently in fruits.\n",
    "fruit_series.value_counts().nlargest(n=1)\n",
    "#.head(1)\n",
    "#idmax() - gives the name\n",
    "#keep='all' is for duplicates"
   ]
  },
  {
   "cell_type": "code",
   "execution_count": null,
   "id": "a3b41dfc",
   "metadata": {},
   "outputs": [],
   "source": [
    "#10 Determine the string value that occurs least frequently in fruits.\n",
    "fruit_series.value_counts().nsmallest(n=1,keep='all')\n",
    "#.tail(11)-because we know from the list there is 11"
   ]
  },
  {
   "cell_type": "markdown",
   "id": "c7f4b6bc",
   "metadata": {},
   "source": [
    "## Exercise part 2"
   ]
  },
  {
   "cell_type": "code",
   "execution_count": 39,
   "id": "f7f2a4bd",
   "metadata": {
    "scrolled": true
   },
   "outputs": [
    {
     "data": {
      "text/plain": [
       "0                 Kiwi\n",
       "1                Mango\n",
       "2           Strawberry\n",
       "3            Pineapple\n",
       "4           Gala apple\n",
       "5     Honeycrisp apple\n",
       "6               Tomato\n",
       "7           Watermelon\n",
       "8             Honeydew\n",
       "9                 Kiwi\n",
       "10                Kiwi\n",
       "11                Kiwi\n",
       "12               Mango\n",
       "13           Blueberry\n",
       "14          Blackberry\n",
       "15          Gooseberry\n",
       "16              Papaya\n",
       "dtype: object"
      ]
     },
     "execution_count": 39,
     "metadata": {},
     "output_type": "execute_result"
    }
   ],
   "source": [
    "#1. Capitalize all the string values in fruits.\n",
    "fruit_series.str.capitalize()\n",
    "#title\n",
    "#upper"
   ]
  },
  {
   "cell_type": "code",
   "execution_count": 8,
   "id": "2954ed22",
   "metadata": {},
   "outputs": [
    {
     "data": {
      "text/plain": [
       "0     0\n",
       "1     1\n",
       "2     1\n",
       "3     1\n",
       "4     3\n",
       "5     1\n",
       "6     1\n",
       "7     1\n",
       "8     0\n",
       "9     0\n",
       "10    0\n",
       "11    0\n",
       "12    1\n",
       "13    0\n",
       "14    1\n",
       "15    0\n",
       "16    3\n",
       "dtype: int64"
      ]
     },
     "execution_count": 8,
     "metadata": {},
     "output_type": "execute_result"
    }
   ],
   "source": [
    "#2. Count the letter \"a\" in all the string values (use string vectorization).\n",
    "fruit_series.apply(lambda row: row.count('a'))\n"
   ]
  },
  {
   "cell_type": "code",
   "execution_count": 37,
   "id": "f11b0e9e",
   "metadata": {},
   "outputs": [
    {
     "data": {
      "text/plain": [
       "0     2\n",
       "1     1\n",
       "2     0\n",
       "3     1\n",
       "4     0\n",
       "5     2\n",
       "6     2\n",
       "7     1\n",
       "8     1\n",
       "9     2\n",
       "10    2\n",
       "11    2\n",
       "12    1\n",
       "13    1\n",
       "14    0\n",
       "15    2\n",
       "16    0\n",
       "dtype: int64"
      ]
     },
     "execution_count": 37,
     "metadata": {},
     "output_type": "execute_result"
    }
   ],
   "source": [
    "#3. Output the number of vowels in each and every string value\n",
    "\n",
    "def count_vowels(string):\n",
    "    vowels = ['a' 'e', 'i', 'o', 'u']\n",
    "    count = 0\n",
    "    for let in string:\n",
    "        if let in vowels:\n",
    "            count +=1\n",
    "    return count\n",
    "\n",
    "fruit_series.apply(count_vowels)\n",
    "\n",
    "#fruits.str.count('[aeiou]')"
   ]
  },
  {
   "cell_type": "code",
   "execution_count": 36,
   "id": "d578e2cf",
   "metadata": {},
   "outputs": [
    {
     "data": {
      "text/plain": [
       "2"
      ]
     },
     "execution_count": 36,
     "metadata": {},
     "output_type": "execute_result"
    }
   ],
   "source": [
    "def count_vowels(fruit):\n",
    "    return len([let for let in fruit.lower() if let in vowels])\n",
    "count_vowels('fruit')\n",
    "\n",
    "#print(data[data.apply(len) >= 5])"
   ]
  },
  {
   "cell_type": "code",
   "execution_count": 30,
   "id": "2183c7c9",
   "metadata": {},
   "outputs": [
    {
     "name": "stdout",
     "output_type": "stream",
     "text": [
      "honeycrisp apple\n"
     ]
    }
   ],
   "source": [
    "#4. Write the code to get the longest string value from fruits.\n",
    "longest_string = max(fruit_series, key=len)\n",
    "print(longest_string)\n",
    "#fruit_series.max()\n",
    "#max(fruits, key=len)"
   ]
  },
  {
   "cell_type": "code",
   "execution_count": null,
   "id": "41a3ea14",
   "metadata": {},
   "outputs": [],
   "source": [
    "#5.Write the code to get the string values with 5 or more letters in the name.\n",
    "#print(data[data.apply(len) >= 5])"
   ]
  },
  {
   "cell_type": "code",
   "execution_count": 33,
   "id": "b8467a1f",
   "metadata": {},
   "outputs": [
    {
     "data": {
      "text/plain": [
       "0     0\n",
       "1     1\n",
       "2     0\n",
       "3     0\n",
       "4     0\n",
       "5     1\n",
       "6     2\n",
       "7     1\n",
       "8     1\n",
       "9     0\n",
       "10    0\n",
       "11    0\n",
       "12    1\n",
       "13    0\n",
       "14    0\n",
       "15    2\n",
       "16    0\n",
       "dtype: int64"
      ]
     },
     "execution_count": 33,
     "metadata": {},
     "output_type": "execute_result"
    }
   ],
   "source": [
    "#6. Use the .apply method with a lambda function to find the fruit(s) containing the letter \"o\" two or more times.\n",
    "fruit_series.apply(lambda row: row.count('o'))"
   ]
  },
  {
   "cell_type": "code",
   "execution_count": null,
   "id": "ea734ee9",
   "metadata": {},
   "outputs": [],
   "source": [
    "#7. Write the code to get only the string values containing the substring \"berry\"."
   ]
  },
  {
   "cell_type": "code",
   "execution_count": null,
   "id": "49cf33c2",
   "metadata": {},
   "outputs": [],
   "source": [
    "#8. Write the code to get only the string values containing the substring \"apple\".\n",
    "#mask = fruits.apply(lambda row: 'berry' in row)\n",
    "#fruits[mask]\n",
    "\n",
    "#print(data[data.str.contains(\"apple\")])\n",
    "#data = fruits_series"
   ]
  },
  {
   "cell_type": "code",
   "execution_count": null,
   "id": "7d295de0",
   "metadata": {},
   "outputs": [],
   "source": [
    "#9. Which string value contains the most vowels?\n",
    "#fruits[fruits.apply(vowel_counter) == fruits.apply(vowel_counter).max()]"
   ]
  },
  {
   "cell_type": "code",
   "execution_count": 63,
   "id": "c93ed9a4",
   "metadata": {},
   "outputs": [
    {
     "data": {
      "text/plain": [
       "0    h\n",
       "1    n\n",
       "2    v\n",
       "3    i\n",
       "4    d\n",
       "dtype: object"
      ]
     },
     "execution_count": 63,
     "metadata": {},
     "output_type": "execute_result"
    }
   ],
   "source": [
    "## Exercise 3\n",
    "#Use pandas to create a Series named letters from the following string:\n",
    "\n",
    "letters =list('hnvidduckkqxwymbimkccexbkmqygkxoyndmcxnwqarhyffsjpsrabtjzsypmzadfavyrnndndvswreauxovncxtwzpwejilzjrmmbbgbyxvjtewqthafnbkqplarokkyydtubbmnexoypulzwfhqvckdpqtpoppzqrmcvhhpwgjwupgzhiofohawytlsiyecuproguy')\n",
    "\n",
    "letter_series =pd.Series(letters)\n",
    "\n",
    "letter_series.head()\n",
    "\n",
    "\n"
   ]
  },
  {
   "cell_type": "code",
   "execution_count": 74,
   "id": "8c46f282",
   "metadata": {},
   "outputs": [
    {
     "data": {
      "text/plain": [
       "y    13\n",
       "p    12\n",
       "w    10\n",
       "k     9\n",
       "m     9\n",
       "n     9\n",
       "b     9\n",
       "o     8\n",
       "h     8\n",
       "q     8\n",
       "r     8\n",
       "c     8\n",
       "x     8\n",
       "a     8\n",
       "d     8\n",
       "v     7\n",
       "z     7\n",
       "u     7\n",
       "t     7\n",
       "f     6\n",
       "e     6\n",
       "j     6\n",
       "i     5\n",
       "g     5\n",
       "s     5\n",
       "l     4\n",
       "dtype: int64"
      ]
     },
     "execution_count": 74,
     "metadata": {},
     "output_type": "execute_result"
    }
   ],
   "source": [
    "#1.Which letter occurs the most frequently in the letters Series?\n",
    "letter_series.value_counts()\n"
   ]
  },
  {
   "cell_type": "code",
   "execution_count": 72,
   "id": "df47420d",
   "metadata": {},
   "outputs": [
    {
     "data": {
      "text/plain": [
       "y    13\n",
       "dtype: int64"
      ]
     },
     "execution_count": 72,
     "metadata": {},
     "output_type": "execute_result"
    }
   ],
   "source": [
    "#1.Which letter occurs the most frequently in the letters Series?\n",
    "#letter_series.max()- gets the highest lettter so \"z\"\n",
    "letter_series.value_counts().nlargest(n=1, keep='all')"
   ]
  },
  {
   "cell_type": "code",
   "execution_count": 73,
   "id": "6890d360",
   "metadata": {},
   "outputs": [
    {
     "data": {
      "text/plain": [
       "l    4\n",
       "dtype: int64"
      ]
     },
     "execution_count": 73,
     "metadata": {},
     "output_type": "execute_result"
    }
   ],
   "source": [
    "#2.Which letter occurs the Least frequently?\n",
    "letter_series.value_counts().nsmallest(n=1, keep='all')"
   ]
  },
  {
   "cell_type": "code",
   "execution_count": 112,
   "id": "da5bf217",
   "metadata": {},
   "outputs": [
    {
     "data": {
      "text/plain": [
       "34.0"
      ]
     },
     "execution_count": 112,
     "metadata": {},
     "output_type": "execute_result"
    }
   ],
   "source": [
    "#3.How many vowels are in the Series?\n",
    "letter_series.str.lower().str.count('[aeiou]').sum()"
   ]
  },
  {
   "cell_type": "code",
   "execution_count": 114,
   "id": "7938633b",
   "metadata": {},
   "outputs": [
    {
     "data": {
      "text/plain": [
       "166.0"
      ]
     },
     "execution_count": 114,
     "metadata": {},
     "output_type": "execute_result"
    }
   ],
   "source": [
    "#4.How many consonants are in the Series?\n",
    "letter_series.str.lower().str.count('[^aeiou]').sum()\n",
    "\n",
    "con =(letter_series.str.lower().count()-letter_series.str.lower().str.count('[aeiou]').sum())\n",
    "con"
   ]
  },
  {
   "cell_type": "code",
   "execution_count": 98,
   "id": "221ceb3b",
   "metadata": {},
   "outputs": [
    {
     "data": {
      "text/plain": [
       "0           H\n",
       "1           N\n",
       "2           V\n",
       "3           I\n",
       "4           D\n",
       "         ... \n",
       "196         O\n",
       "197         G\n",
       "198         U\n",
       "199         Y\n",
       "Vowels    NaN\n",
       "Length: 201, dtype: object"
      ]
     },
     "execution_count": 98,
     "metadata": {},
     "output_type": "execute_result"
    }
   ],
   "source": [
    "#5.Create a Series that has all of the same letters but uppercased.\n",
    "upper_case = letter_series.str.upper()\n",
    "upper_case\n"
   ]
  },
  {
   "cell_type": "code",
   "execution_count": null,
   "id": "e68c76a1",
   "metadata": {},
   "outputs": [],
   "source": [
    "#6.Create a bar plot of the frequencies of the 6 most commonly occuring letters.\n",
    "letters.value_counts().head(7).plot"
   ]
  },
  {
   "cell_type": "code",
   "execution_count": null,
   "id": "ce50e4b7",
   "metadata": {},
   "outputs": [],
   "source": [
    "#7."
   ]
  },
  {
   "cell_type": "code",
   "execution_count": null,
   "id": "a01eca62",
   "metadata": {},
   "outputs": [],
   "source": [
    "#8."
   ]
  },
  {
   "cell_type": "code",
   "execution_count": null,
   "id": "c802450f",
   "metadata": {},
   "outputs": [],
   "source": [
    "#9."
   ]
  }
 ],
 "metadata": {
  "kernelspec": {
   "display_name": "Python 3",
   "language": "python",
   "name": "python3"
  },
  "language_info": {
   "codemirror_mode": {
    "name": "ipython",
    "version": 3
   },
   "file_extension": ".py",
   "mimetype": "text/x-python",
   "name": "python",
   "nbconvert_exporter": "python",
   "pygments_lexer": "ipython3",
   "version": "3.8.8"
  }
 },
 "nbformat": 4,
 "nbformat_minor": 5
}
