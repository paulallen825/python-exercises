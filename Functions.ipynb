{
 "cells": [
  {
   "cell_type": "code",
   "execution_count": null,
   "id": "f97206cd",
   "metadata": {},
   "outputs": [],
   "source": [
    "def is_two(n):\n",
    "    result = n\n",
    "    if result == 2:\n",
    "        return True\n",
    "    elif result == '2':\n",
    "        return True\n",
    "    else: \n",
    "        return False\n",
    "     \n",
    "is_two(2)\n"
   ]
  },
  {
   "cell_type": "code",
   "execution_count": null,
   "id": "eee122f9",
   "metadata": {},
   "outputs": [],
   "source": [
    "def is_vowel(n):\n",
    "    vowel = n\n",
    "    if vowel in (\"a\",\"e\",\"i\",\"o\",\"u\"):\n",
    "        return True\n",
    "\n",
    "    else:\n",
    "        return False\n",
    "is_vowel('b')"
   ]
  },
  {
   "cell_type": "code",
   "execution_count": null,
   "id": "8e29416e",
   "metadata": {},
   "outputs": [],
   "source": [
    "def is_consonant(n):\n",
    "    consonant = n\n",
    "    if is_vowel(consonant)==True:\n",
    "        return False\n",
    "    else:\n",
    "        return True\n",
    "is_consonant('b')\n",
    "    "
   ]
  },
  {
   "cell_type": "code",
   "execution_count": null,
   "id": "1da9e4b0",
   "metadata": {},
   "outputs": [],
   "source": [
    "def cap_consonant(n):\n",
    "    word = n\n",
    "    first_char=word[0]\n",
    "    print(first_char)\n",
    "    if is_consonant(first_char)== True:\n",
    "        new_word=word[0].upper()+word[1:]\n",
    "        print(new_word)\n",
    "        \n",
    "    \n",
    "cap_consonant('hello')\n",
    "    \n",
    "    "
   ]
  },
  {
   "cell_type": "code",
   "execution_count": 1,
   "id": "6e0b836b",
   "metadata": {},
   "outputs": [],
   "source": [
    "def calculate_tip(tip, bill_total):\n",
    "    new_tip = tip\n",
    "    print(new_tip)\n",
    "    new_bill_total=bill_total\n",
    "    print(new_bill_total)\n",
    "    \n",
    "\n",
    "    tip_perc = (float(new_tip) * .001) * (float(new_bill_total))\n",
    "    tip_amount = (float(tip_perc) / .1)\n",
    "    tip_format = \"{:.2f}\".format(tip_amount)\n",
    "    \n",
    "    print(f\"With a {new_tip}% tip for a total bill of ${new_bill_total} your tip amount will be: ${tip_format}\")\n",
    "\n",
    "    calculate_tip(10,50)"
   ]
  },
  {
   "cell_type": "code",
   "execution_count": null,
   "id": "d948979b",
   "metadata": {},
   "outputs": [],
   "source": [
    "#def appply_discount():\n",
    "discount =input('Please enter the discount percentage')\n",
    "print(discount)\n",
    "original_price = input('Please enter the original price')\n",
    "print(original_price)\n",
    "\n",
    "discount_perc = (float(discount) * .001) * (float(original_price))\n",
    "discount_amount = (float(discount_perc) / .1)\n",
    "discount_format = \"{:.2f}\".format(discount_amount)\n",
    "sale_price = (float(original_price)) - (float(discount_format))\n",
    "sale_price_format = \"{:.2f}\".format(sale_price)\n",
    "\n",
    "print(f\"\"\" {discount}% off the regular price of {original_price} is {discount_format}. The sale price will be ${sale_price_format}.\"\"\")"
   ]
  },
  {
   "cell_type": "code",
   "execution_count": null,
   "id": "ad68cfe2",
   "metadata": {},
   "outputs": [],
   "source": [
    "#def handle_commas():\n",
    "n = input('enter your number')   \n",
    "number = n\n",
    "no_commas =\",\"\n",
    "for comma in no_commas:\n",
    "    number = number.replace(comma, \"\")\n",
    "    new_number=int(number)\n",
    "    print(new_number)\n",
    "    print(type(new_number))\n",
    "    \n",
    "     "
   ]
  },
  {
   "cell_type": "code",
   "execution_count": null,
   "id": "1e87d740",
   "metadata": {},
   "outputs": [],
   "source": [
    "def get_letter_grade():\n",
    "    "
   ]
  }
 ],
 "metadata": {
  "kernelspec": {
   "display_name": "Python 3",
   "language": "python",
   "name": "python3"
  },
  "language_info": {
   "codemirror_mode": {
    "name": "ipython",
    "version": 3
   },
   "file_extension": ".py",
   "mimetype": "text/x-python",
   "name": "python",
   "nbconvert_exporter": "python",
   "pygments_lexer": "ipython3",
   "version": "3.8.8"
  }
 },
 "nbformat": 4,
 "nbformat_minor": 5
}
