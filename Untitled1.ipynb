{
 "cells": [
  {
   "cell_type": "code",
   "execution_count": null,
   "id": "22f5b8e5",
   "metadata": {},
   "outputs": [],
   "source": [
    " day_of_week = input (\"Please enter the day of the week\")\n",
    "if day_of_week ==\"Monday\":\n",
    "    print(\"Today is Monday\")\n",
    "else:\n",
    "    print(\"Today is not Monday\")"
   ]
  },
  {
   "cell_type": "code",
   "execution_count": null,
   "id": "f97d8dc6",
   "metadata": {},
   "outputs": [],
   "source": [
    "day_of_week = input(\"Please enter the day of the week \")\n",
    "if day_of_week ==(\"Monday\"or \"Tuesday\" or\"Wednesday\"or\"Thursday\"or\"Friday\"):\n",
    "    print(\"Today is a weekday\")\n",
    "else:\n",
    "    print(\"Its the weekend!\")"
   ]
  },
  {
   "cell_type": "code",
   "execution_count": null,
   "id": "30b68395",
   "metadata": {},
   "outputs": [],
   "source": [
    "hours_worked = 41\n",
    "hourly_rate = 120\n",
    "Reg_pay = hours_worked * hourly_rate\n",
    "Over_pay = (40 *hourly_rate) +((hours_worked - 40) * (hourly_rate*1.5))\n",
    "\n",
    "if hours_worked > 40:\n",
    "        print(Over_pay)\n",
    "else:\n",
    "    print(Reg_pay)\n",
    "\n",
    "\n"
   ]
  },
  {
   "cell_type": "code",
   "execution_count": null,
   "id": "be572666",
   "metadata": {},
   "outputs": [],
   "source": [
    "i = int(5)\n",
    "while i <=15:\n",
    "    print(i)\n",
    "    i+=1"
   ]
  },
  {
   "cell_type": "code",
   "execution_count": null,
   "id": "40de7b60",
   "metadata": {},
   "outputs": [],
   "source": [
    "for i in range (0,101):\n",
    "    if i % 2 == 0:\n",
    "        print(i)"
   ]
  },
  {
   "cell_type": "code",
   "execution_count": null,
   "id": "c353543c",
   "metadata": {},
   "outputs": [],
   "source": [
    "i = 100\n",
    "while i <=100 and i >= -10:\n",
    "    print(i)\n",
    "    i-=5"
   ]
  },
  {
   "cell_type": "code",
   "execution_count": null,
   "id": "4dcdcb00",
   "metadata": {},
   "outputs": [],
   "source": [
    "i = 2\n",
    "while i <=100 and i % 2 ==0:\n",
    "    print(i)\n",
    "    i+=2"
   ]
  },
  {
   "cell_type": "code",
   "execution_count": null,
   "id": "58bb5574",
   "metadata": {},
   "outputs": [],
   "source": [
    "i = 2\n",
    "while i <=1000000:\n",
    "    print(i)\n",
    "    \n",
    "    i=pow(i,2)"
   ]
  },
  {
   "cell_type": "code",
   "execution_count": null,
   "id": "ebbbf4d3",
   "metadata": {},
   "outputs": [],
   "source": [
    "i = 100\n",
    "while i <=100 and i >= 5:\n",
    "    print(i)\n",
    "    i-=5"
   ]
  },
  {
   "cell_type": "code",
   "execution_count": null,
   "id": "9386375c",
   "metadata": {},
   "outputs": [],
   "source": [
    "\n"
   ]
  },
  {
   "cell_type": "code",
   "execution_count": null,
   "id": "c1cbd917",
   "metadata": {},
   "outputs": [],
   "source": []
  },
  {
   "cell_type": "code",
   "execution_count": null,
   "id": "2a9fb4da",
   "metadata": {},
   "outputs": [],
   "source": []
  }
 ],
 "metadata": {
  "kernelspec": {
   "display_name": "Python 3",
   "language": "python",
   "name": "python3"
  },
  "language_info": {
   "codemirror_mode": {
    "name": "ipython",
    "version": 3
   },
   "file_extension": ".py",
   "mimetype": "text/x-python",
   "name": "python",
   "nbconvert_exporter": "python",
   "pygments_lexer": "ipython3",
   "version": "3.8.8"
  }
 },
 "nbformat": 4,
 "nbformat_minor": 5
}
