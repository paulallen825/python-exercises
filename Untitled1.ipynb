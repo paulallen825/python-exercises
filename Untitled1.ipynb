{
 "cells": [
  {
   "cell_type": "code",
   "execution_count": null,
   "id": "860af064",
   "metadata": {},
   "outputs": [],
   "source": [
    " day_of_week = input (\"Please enter the day of the week\")\n",
    "if day_of_week ==\"Monday\":\n",
    "    print(\"Today is Monday\")\n",
    "else:\n",
    "    print(\"Today is not Monday\")"
   ]
  },
  {
   "cell_type": "code",
   "execution_count": null,
   "id": "e62c7eb8",
   "metadata": {},
   "outputs": [],
   "source": [
    "day_of_week = input(\"Please enter the day of the week \")\n",
    "if day_of_week ==(\"Monday\"or \"Tuesday\" or\"Wednesday\"or\"Thursday\"or\"Friday\"):\n",
    "    print(\"Today is a weekday\")\n",
    "else:\n",
    "    print(\"Its the weekend!\")"
   ]
  },
  {
   "cell_type": "code",
   "execution_count": null,
   "id": "808b3bc3",
   "metadata": {},
   "outputs": [],
   "source": [
    "hours_worked = 41\n",
    "hourly_rate = 120\n",
    "Reg_pay = hours_worked * hourly_rate\n",
    "Over_pay = (40 *hourly_rate) +((hours_worked - 40) * (hourly_rate*1.5))\n",
    "\n",
    "if hours_worked > 40:\n",
    "        print(Over_pay)\n",
    "else:\n",
    "    print(Reg_pay)\n",
    "\n",
    "\n"
   ]
  },
  {
   "cell_type": "code",
   "execution_count": null,
   "id": "b207990c",
   "metadata": {},
   "outputs": [],
   "source": [
    "i = int(5)\n",
    "while i <=15:\n",
    "    print(i)\n",
    "    i+=1"
   ]
  },
  {
   "cell_type": "code",
   "execution_count": null,
   "id": "df3e04d0",
   "metadata": {},
   "outputs": [],
   "source": [
    "for i in range (0,101):\n",
    "    if i % 2 == 0:\n",
    "        print(i)"
   ]
  },
  {
   "cell_type": "code",
   "execution_count": null,
   "id": "8abd8d5c",
   "metadata": {},
   "outputs": [],
   "source": [
    "i = 100\n",
    "while i <=100 and i >= -10:\n",
    "    print(i)\n",
    "    i-=5"
   ]
  },
  {
   "cell_type": "code",
   "execution_count": null,
   "id": "47756427",
   "metadata": {},
   "outputs": [],
   "source": [
    "i = 2\n",
    "while i <=100 and i % 2 ==0:\n",
    "    print(i)\n",
    "    i+=2"
   ]
  },
  {
   "cell_type": "code",
   "execution_count": null,
   "id": "f58ebc3a",
   "metadata": {},
   "outputs": [],
   "source": [
    "i = 2\n",
    "while i <=1000000:\n",
    "    print(i)\n",
    "    \n",
    "    i=pow(i,2)"
   ]
  },
  {
   "cell_type": "code",
   "execution_count": null,
   "id": "6d9c406e",
   "metadata": {},
   "outputs": [],
   "source": [
    "i = 100\n",
    "while i <=100 and i >= 5:\n",
    "    print(i)\n",
    "    i-=5"
   ]
  },
  {
   "cell_type": "code",
   "execution_count": 4,
   "id": "95e7f51e",
   "metadata": {},
   "outputs": [
    {
     "name": "stdout",
     "output_type": "stream",
     "text": [
      "Please input your favorite integer3\n"
     ]
    },
    {
     "ename": "TypeError",
     "evalue": "'str' object is not callable",
     "output_type": "error",
     "traceback": [
      "\u001b[0;31m---------------------------------------------------------------------------\u001b[0m",
      "\u001b[0;31mTypeError\u001b[0m                                 Traceback (most recent call last)",
      "\u001b[0;32m<ipython-input-4-6b945b9d253a>\u001b[0m in \u001b[0;36m<module>\u001b[0;34m\u001b[0m\n\u001b[1;32m      2\u001b[0m \u001b[0mint\u001b[0m\u001b[0;34m(\u001b[0m\u001b[0muser_input\u001b[0m\u001b[0;34m)\u001b[0m\u001b[0;34m\u001b[0m\u001b[0;34m\u001b[0m\u001b[0m\n\u001b[1;32m      3\u001b[0m \u001b[0mmult_table\u001b[0m \u001b[0;34m=\u001b[0m \u001b[0;34m[\u001b[0m\u001b[0muser_input\u001b[0m\u001b[0;34m*\u001b[0m\u001b[0;36m1\u001b[0m\u001b[0;34m]\u001b[0m\u001b[0;34m\u001b[0m\u001b[0;34m\u001b[0m\u001b[0m\n\u001b[0;32m----> 4\u001b[0;31m \u001b[0;32mfor\u001b[0m \u001b[0mi\u001b[0m \u001b[0;32min\u001b[0m \u001b[0muser_input\u001b[0m\u001b[0;34m(\u001b[0m\u001b[0mmult_table\u001b[0m\u001b[0;34m)\u001b[0m\u001b[0;34m:\u001b[0m\u001b[0;34m\u001b[0m\u001b[0;34m\u001b[0m\u001b[0m\n\u001b[0m\u001b[1;32m      5\u001b[0m     \u001b[0mprint\u001b[0m\u001b[0;34m(\u001b[0m\u001b[0mi\u001b[0m\u001b[0;34m)\u001b[0m\u001b[0;34m\u001b[0m\u001b[0;34m\u001b[0m\u001b[0m\n",
      "\u001b[0;31mTypeError\u001b[0m: 'str' object is not callable"
     ]
    }
   ],
   "source": [
    "\n"
   ]
  },
  {
   "cell_type": "code",
   "execution_count": null,
   "id": "61f08607",
   "metadata": {},
   "outputs": [],
   "source": []
  },
  {
   "cell_type": "code",
   "execution_count": null,
   "id": "6def9c03",
   "metadata": {},
   "outputs": [],
   "source": []
  }
 ],
 "metadata": {
  "kernelspec": {
   "display_name": "Python 3",
   "language": "python",
   "name": "python3"
  },
  "language_info": {
   "codemirror_mode": {
    "name": "ipython",
    "version": 3
   },
   "file_extension": ".py",
   "mimetype": "text/x-python",
   "name": "python",
   "nbconvert_exporter": "python",
   "pygments_lexer": "ipython3",
   "version": "3.8.8"
  }
 },
 "nbformat": 4,
 "nbformat_minor": 5
}
