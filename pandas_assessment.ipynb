{
 "cells": [
  {
   "cell_type": "markdown",
   "metadata": {},
   "source": [
    "# Python/Pandas Assessment\n",
    "\n",
    "### Setup\n",
    "- Download a copy of this notebook. \n",
    "- Run `echo pandas_assessment.ipynb >> .gitignore` on your terminal to ensure that this assessment _does not_ get pushed to GitHub. Because sharing test questions is an academic integrity issue, we want to avoid that isssue entirely.\n",
    "- Upload your completed notebook to the appropriate Google Classroom assignment.\n",
    "\n",
    "### Orientation\n",
    "- There are 10 exercises on this assessment worth 10 points each.\n",
    "- Credit is given for programmatic solutions only; your code shows your work. Since you see the answer in the unit test code, if your function has `return 44`, for example, that's not going to earn credit.\n",
    "- Your Python/pandas code should run without errors\n",
    "- After each problem prompt, there is a cell to write your code followed by another cell with a unit test. To run the tests, uncomment those lines of code.\n",
    "\n",
    "### Troubleshooting\n",
    "If you need a fresh start, go to Kernel and then \"Restart and Clear Output\" in this Jupyter Notebook"
   ]
  },
  {
   "cell_type": "code",
   "execution_count": 1,
   "metadata": {},
   "outputs": [
    {
     "data": {
      "text/html": [
       "<div>\n",
       "<style scoped>\n",
       "    .dataframe tbody tr th:only-of-type {\n",
       "        vertical-align: middle;\n",
       "    }\n",
       "\n",
       "    .dataframe tbody tr th {\n",
       "        vertical-align: top;\n",
       "    }\n",
       "\n",
       "    .dataframe thead th {\n",
       "        text-align: right;\n",
       "    }\n",
       "</style>\n",
       "<table border=\"1\" class=\"dataframe\">\n",
       "  <thead>\n",
       "    <tr style=\"text-align: right;\">\n",
       "      <th></th>\n",
       "      <th>total_bill</th>\n",
       "      <th>tip</th>\n",
       "      <th>sex</th>\n",
       "      <th>smoker</th>\n",
       "      <th>day</th>\n",
       "      <th>time</th>\n",
       "      <th>size</th>\n",
       "    </tr>\n",
       "  </thead>\n",
       "  <tbody>\n",
       "    <tr>\n",
       "      <th>1</th>\n",
       "      <td>16.99</td>\n",
       "      <td>1.01</td>\n",
       "      <td>Female</td>\n",
       "      <td>No</td>\n",
       "      <td>Sun</td>\n",
       "      <td>Dinner</td>\n",
       "      <td>2</td>\n",
       "    </tr>\n",
       "    <tr>\n",
       "      <th>2</th>\n",
       "      <td>10.34</td>\n",
       "      <td>1.66</td>\n",
       "      <td>Male</td>\n",
       "      <td>No</td>\n",
       "      <td>Sun</td>\n",
       "      <td>Dinner</td>\n",
       "      <td>3</td>\n",
       "    </tr>\n",
       "    <tr>\n",
       "      <th>3</th>\n",
       "      <td>21.01</td>\n",
       "      <td>3.50</td>\n",
       "      <td>Male</td>\n",
       "      <td>No</td>\n",
       "      <td>Sun</td>\n",
       "      <td>Dinner</td>\n",
       "      <td>3</td>\n",
       "    </tr>\n",
       "    <tr>\n",
       "      <th>4</th>\n",
       "      <td>23.68</td>\n",
       "      <td>3.31</td>\n",
       "      <td>Male</td>\n",
       "      <td>No</td>\n",
       "      <td>Sun</td>\n",
       "      <td>Dinner</td>\n",
       "      <td>2</td>\n",
       "    </tr>\n",
       "    <tr>\n",
       "      <th>5</th>\n",
       "      <td>24.59</td>\n",
       "      <td>3.61</td>\n",
       "      <td>Female</td>\n",
       "      <td>No</td>\n",
       "      <td>Sun</td>\n",
       "      <td>Dinner</td>\n",
       "      <td>4</td>\n",
       "    </tr>\n",
       "  </tbody>\n",
       "</table>\n",
       "</div>"
      ],
      "text/plain": [
       "   total_bill   tip     sex smoker  day    time  size\n",
       "1       16.99  1.01  Female     No  Sun  Dinner     2\n",
       "2       10.34  1.66    Male     No  Sun  Dinner     3\n",
       "3       21.01  3.50    Male     No  Sun  Dinner     3\n",
       "4       23.68  3.31    Male     No  Sun  Dinner     2\n",
       "5       24.59  3.61  Female     No  Sun  Dinner     4"
      ]
     },
     "execution_count": 1,
     "metadata": {},
     "output_type": "execute_result"
    }
   ],
   "source": [
    "# Required Imports and data acquisition\n",
    "import pandas as pd\n",
    "from pydataset import data\n",
    "import numpy as np\n",
    "\n",
    "df = data(\"tips\")\n",
    "df.head()"
   ]
  },
  {
   "cell_type": "markdown",
   "metadata": {},
   "source": [
    "####  EXAMPLE: Write a function named `exercise0`\n",
    "- This function should accept a dataframe as its input argument\n",
    "- Notice that the example function is returning the appropriate, programmatic code to obtain the solution\n",
    "- The `assert` line checks the exercise solution code to ensure correctness"
   ]
  },
  {
   "cell_type": "code",
   "execution_count": null,
   "metadata": {},
   "outputs": [],
   "source": [
    "# This example function is solved below:\n",
    "def exercise0(df):\n",
    "    return len(df)\n",
    "\n",
    "assert exercise0(df) == 244\n",
    "print(\"Exercise 0 example exercise is complete.\")"
   ]
  },
  {
   "cell_type": "markdown",
   "metadata": {},
   "source": [
    "####  Write a function named `exercise1`\n",
    "- Use the cell below to write your code\n",
    "- This function should accept a dataframe as its input argument\n",
    "- This function should return the highest `total_bill` value from the tips dataframe"
   ]
  },
  {
   "cell_type": "code",
   "execution_count": null,
   "metadata": {},
   "outputs": [],
   "source": [
    "# Write your code for the exercise1 function here\n",
    "\n",
    "def exercise1(df):\n",
    "    return max(df.total_bill)\n"
   ]
  },
  {
   "cell_type": "code",
   "execution_count": null,
   "metadata": {},
   "outputs": [],
   "source": [
    "assert exercise1(df) == 50.81\n",
    "print(\"Exercise 1 is complete\") "
   ]
  },
  {
   "cell_type": "markdown",
   "metadata": {},
   "source": [
    "####  Write a function named `exercise2`\n",
    "- Use the cell below to write your code\n",
    "- This function should return the smallest `tip` value from the mpg dataframe\n",
    "- This function should accept a dataframe as its input argument."
   ]
  },
  {
   "cell_type": "code",
   "execution_count": null,
   "metadata": {},
   "outputs": [],
   "source": [
    "# Write your code for the exercise2 function definition here\n",
    "\n",
    "def exercise2(df):\n",
    "    return min(df.tips)\n"
   ]
  },
  {
   "cell_type": "code",
   "execution_count": null,
   "metadata": {},
   "outputs": [],
   "source": [
    "assert exercise2(df) == 1.0\n",
    "print(\"Exercise 2 is complete\")"
   ]
  },
  {
   "cell_type": "markdown",
   "metadata": {},
   "source": [
    "####  Write a function named `exercise3`\n",
    "- Use the cell below to write your `exercise3` function definition\n",
    "- This function should return the number of rows that represent \"Lunch\" time customers\n",
    "- This function should accept a dataframe as its input argument"
   ]
  },
  {
   "cell_type": "code",
   "execution_count": null,
   "metadata": {},
   "outputs": [],
   "source": [
    "# Write your code for the exercise3 function here\n",
    "def exercise3(df):\n",
    "    \n",
    "    return df['time'].value_counts().min()\n",
    "\n"
   ]
  },
  {
   "cell_type": "code",
   "execution_count": null,
   "metadata": {
    "scrolled": true
   },
   "outputs": [],
   "source": [
    "assert exercise3(df) == 68\n",
    "print(\"Exercise 3 is correct\")"
   ]
  },
  {
   "cell_type": "code",
   "execution_count": null,
   "metadata": {},
   "outputs": [],
   "source": []
  },
  {
   "cell_type": "code",
   "execution_count": null,
   "metadata": {},
   "outputs": [],
   "source": []
  },
  {
   "cell_type": "markdown",
   "metadata": {},
   "source": [
    "####  Exercise 4 is a one line of pandas code, not a function\n",
    "- Use the cell below to write the code necessary to rename the `size` column to `table_size` on the `df` variable.\n",
    "- Remember that `.size` is a reserved word in Pandas, so it helps to rename this columns that share a reserved word\n",
    "- Exercise 4 code is not a function, but should be 1 line of pandas code. \n",
    "- Be certain to update the `df` variable or mutate it accordingly, so that `df` has the new column name."
   ]
  },
  {
   "cell_type": "code",
   "execution_count": null,
   "metadata": {},
   "outputs": [],
   "source": [
    "# Write your pandas code to rename the \"size\" column to \"table_size\"\n",
    "df.rename(columns={\"size\": \"table_size\"},inplace = True)\n"
   ]
  },
  {
   "cell_type": "code",
   "execution_count": null,
   "metadata": {},
   "outputs": [],
   "source": [
    "assert df.columns.tolist() == ['total_bill', 'tip', 'sex', 'smoker', 'day', 'time', 'table_size']\n",
    "print(\"Exercise 4 is complete\")"
   ]
  },
  {
   "cell_type": "markdown",
   "metadata": {},
   "source": [
    "#### Write a function named `exercise5`\n",
    "- This function should return the percentage of lunch customers out of all customers\n",
    "- You can use the full decimal or choose to round to 2 decimal places. Either answer will earn credit \n",
    "- This function should accept a dataframe as its input argument"
   ]
  },
  {
   "cell_type": "code",
   "execution_count": null,
   "metadata": {},
   "outputs": [],
   "source": [
    "# Exercise 5 code here\n",
    "def Exercise5(df):\n",
    "    \n",
    "return(df.time == 'Lunch').mean"
   ]
  },
  {
   "cell_type": "code",
   "execution_count": null,
   "metadata": {},
   "outputs": [],
   "source": [
    "assert exercise5(df) in [0.2786885245901639, 0.28]\n",
    "print(\"Exercise 5 is correct\")"
   ]
  },
  {
   "cell_type": "markdown",
   "metadata": {},
   "source": [
    "#### Exercise 6\n",
    "- Write a function named `exercise6`\n",
    "- This function should return the number of rows where the `total_bill` is greater than the average of all `total_bill` values.\n",
    "- This function should accept a dataframe as its input argument"
   ]
  },
  {
   "cell_type": "code",
   "execution_count": 17,
   "metadata": {},
   "outputs": [],
   "source": [
    "# Exercise 6 code here\n",
    "def exercise6(df):\n",
    "    avg =df['total_bill'].mean()\n",
    "    \n",
    "    \n",
    "\n",
    "return (df.total_bill > avg_bill).sum"
   ]
  },
  {
   "cell_type": "code",
   "execution_count": 16,
   "metadata": {},
   "outputs": [
    {
     "ename": "ValueError",
     "evalue": "The truth value of a Series is ambiguous. Use a.empty, a.bool(), a.item(), a.any() or a.all().",
     "output_type": "error",
     "traceback": [
      "\u001b[0;31m---------------------------------------------------------------------------\u001b[0m",
      "\u001b[0;31mValueError\u001b[0m                                Traceback (most recent call last)",
      "\u001b[0;32m<ipython-input-16-30785ce7e168>\u001b[0m in \u001b[0;36m<module>\u001b[0;34m\u001b[0m\n\u001b[0;32m----> 1\u001b[0;31m \u001b[0;32massert\u001b[0m \u001b[0mexercise6\u001b[0m\u001b[0;34m(\u001b[0m\u001b[0mdf\u001b[0m\u001b[0;34m)\u001b[0m \u001b[0;34m==\u001b[0m \u001b[0;36m99\u001b[0m\u001b[0;34m\u001b[0m\u001b[0;34m\u001b[0m\u001b[0m\n\u001b[0m\u001b[1;32m      2\u001b[0m \u001b[0mprint\u001b[0m\u001b[0;34m(\u001b[0m\u001b[0;34m\"Exercise 6 is correct\"\u001b[0m\u001b[0;34m)\u001b[0m\u001b[0;34m\u001b[0m\u001b[0;34m\u001b[0m\u001b[0m\n",
      "\u001b[0;32m/opt/homebrew/anaconda3/lib/python3.8/site-packages/pandas/core/generic.py\u001b[0m in \u001b[0;36m__nonzero__\u001b[0;34m(self)\u001b[0m\n\u001b[1;32m   1440\u001b[0m     \u001b[0;34m@\u001b[0m\u001b[0mfinal\u001b[0m\u001b[0;34m\u001b[0m\u001b[0;34m\u001b[0m\u001b[0m\n\u001b[1;32m   1441\u001b[0m     \u001b[0;32mdef\u001b[0m \u001b[0m__nonzero__\u001b[0m\u001b[0;34m(\u001b[0m\u001b[0mself\u001b[0m\u001b[0;34m)\u001b[0m\u001b[0;34m:\u001b[0m\u001b[0;34m\u001b[0m\u001b[0;34m\u001b[0m\u001b[0m\n\u001b[0;32m-> 1442\u001b[0;31m         raise ValueError(\n\u001b[0m\u001b[1;32m   1443\u001b[0m             \u001b[0;34mf\"The truth value of a {type(self).__name__} is ambiguous. \"\u001b[0m\u001b[0;34m\u001b[0m\u001b[0;34m\u001b[0m\u001b[0m\n\u001b[1;32m   1444\u001b[0m             \u001b[0;34m\"Use a.empty, a.bool(), a.item(), a.any() or a.all().\"\u001b[0m\u001b[0;34m\u001b[0m\u001b[0;34m\u001b[0m\u001b[0m\n",
      "\u001b[0;31mValueError\u001b[0m: The truth value of a Series is ambiguous. Use a.empty, a.bool(), a.item(), a.any() or a.all()."
     ]
    }
   ],
   "source": [
    "assert exercise6(df) == 99\n",
    "print(\"Exercise 6 is correct\")"
   ]
  },
  {
   "cell_type": "markdown",
   "metadata": {},
   "source": [
    "#### Exercise 7\n",
    "- Write a function named `exercise7`\n",
    "- This function should return the highest `total_bill` value for Thursday dinner customers.\n",
    "- This function should accept a dataframe as its input argument"
   ]
  },
  {
   "cell_type": "code",
   "execution_count": null,
   "metadata": {},
   "outputs": [],
   "source": [
    "# Exercise 7 code here\n",
    "thursday = df[df.day =='Thur']\n",
    "thur_dinner = thursday[thursday.time =='dinner']\n",
    "return thur_dinenr.total_bill.max()"
   ]
  },
  {
   "cell_type": "code",
   "execution_count": null,
   "metadata": {},
   "outputs": [],
   "source": [
    "assert exercise7(df) == 18.78\n",
    "print(\"Exercise 7 is correct\")"
   ]
  },
  {
   "cell_type": "markdown",
   "metadata": {},
   "source": [
    "#### Exercise 8\n",
    "- Write a function named `exercise8`\n",
    "- This function should return the highest `total_bill` for customers eating on Thursday or Friday\n",
    "- This function should accept a dataframe as its input argument"
   ]
  },
  {
   "cell_type": "code",
   "execution_count": null,
   "metadata": {},
   "outputs": [],
   "source": [
    "# Exercise 8 code here\n",
    "def exercise8(df):\n",
    "    return df[df.day.isin(('Thur', 'Fri'))].total_bill.max()\n",
    "\n"
   ]
  },
  {
   "cell_type": "code",
   "execution_count": null,
   "metadata": {},
   "outputs": [],
   "source": [
    "assert exercise8(df) == 43.11\n",
    "print(\"Exercise 8 is correct\")"
   ]
  },
  {
   "cell_type": "markdown",
   "metadata": {},
   "source": [
    "#### Exercise 9\n",
    "- Write a function named `exercise9`\n",
    "- This function should return the percent of `total_bill` values above the average `total_bill`\n",
    "- We want to keep the decimal returned by the number of tips higher than the median divided by total number of tips.\n",
    "- Avoid worrying about adding percentage symbols as strings or multiplying anything by 100. Keep it simple.\n",
    "- This function should accept a dataframe as its input argument"
   ]
  },
  {
   "cell_type": "code",
   "execution_count": null,
   "metadata": {},
   "outputs": [],
   "source": [
    "# Exercise 9 code here:\n",
    "def exercise9(df):\n",
    "    return(df.total_bill > df.total_bill.mean()).mean\n",
    "\n",
    "avg_bill = df.total_bill.mean()\n",
    "number_above_average =(df.total_bill > avg_bill).sum()\n",
    "return number_above_avg / len(df)\n",
    "\n"
   ]
  },
  {
   "cell_type": "code",
   "execution_count": null,
   "metadata": {},
   "outputs": [],
   "source": [
    "assert exercise9(df) == 0.4057377049180328\n",
    "print(\"Exercise 9 is correct\")"
   ]
  },
  {
   "cell_type": "markdown",
   "metadata": {},
   "source": [
    "#### Exercise 10\n",
    "- Write a function named `exercise10`\n",
    "- This function should take in the `prices` series as its input argument.\n",
    "- This function should clean these strings and our strings with dollar signs and commas into proper floats.\n",
    "- The `exercise10` function should return a series containing only floats"
   ]
  },
  {
   "cell_type": "code",
   "execution_count": null,
   "metadata": {},
   "outputs": [],
   "source": [
    "prices = pd.Series([\"$1,234.56\", \"$2,345,678.99\", \"$123.45\", \"$3,333,333.99\"])"
   ]
  },
  {
   "cell_type": "code",
   "execution_count": null,
   "metadata": {},
   "outputs": [],
   "source": [
    "# Write your function definition for exercise10 here\n",
    "\n",
    "def exercise10(prices):\n",
    "    prices = prices.str.replace(\"$\",\"\")\n",
    "    prices = prices.str.replace(\",\",\"\")\n",
    "    prices = prices.astype(float)\n",
    "    return prices\n"
   ]
  },
  {
   "cell_type": "code",
   "execution_count": null,
   "metadata": {},
   "outputs": [],
   "source": [
    "assert exercise10(prices).values.tolist() == [1234.56, 2345678.99, 123.45, 3333333.99]\n",
    "print(\"Exercise10 is correct.\")"
   ]
  },
  {
   "cell_type": "code",
   "execution_count": null,
   "metadata": {},
   "outputs": [],
   "source": [
    "#find non smoker and dinner customer\n",
    "\n",
    "is_nonsmoker = df.smoker == \"No\"\n",
    "is_nonsmoker.head()\n",
    "is_dinner = df.time == \"dinner\"\n",
    "is_dinner.head()\n",
    "\n",
    "is_non_smoker_dinner = is_non_smoker & is_dinner\n",
    "is_non_smoker_dinner.head()"
   ]
  },
  {
   "cell_type": "code",
   "execution_count": null,
   "metadata": {},
   "outputs": [],
   "source": [
    "df[is_non_smoker]"
   ]
  }
 ],
 "metadata": {
  "kernelspec": {
   "display_name": "Python 3",
   "language": "python",
   "name": "python3"
  },
  "language_info": {
   "codemirror_mode": {
    "name": "ipython",
    "version": 3
   },
   "file_extension": ".py",
   "mimetype": "text/x-python",
   "name": "python",
   "nbconvert_exporter": "python",
   "pygments_lexer": "ipython3",
   "version": "3.8.8"
  }
 },
 "nbformat": 4,
 "nbformat_minor": 4
}
